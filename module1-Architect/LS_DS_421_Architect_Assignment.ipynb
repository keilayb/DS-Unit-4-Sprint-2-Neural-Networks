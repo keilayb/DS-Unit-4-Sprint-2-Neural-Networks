{
 "cells": [
  {
   "cell_type": "markdown",
   "metadata": {
    "colab_type": "text",
    "id": "ObyHCH8HvHSf"
   },
   "source": [
    "\n",
    "# *Data Science Unit 4 Sprint 2 Assignment 1*\n",
    "\n",
    "Use TensorFlow Keras & a sample of the [Quickdraw dataset](https://github.com/googlecreativelab/quickdraw-dataset) to build a sketch classification model. The dataset has been sampled to only 10 classes and 10000 observations per class. \n",
    "\n",
    "### Objective\n",
    "\n",
    "- Build a baseline classification model then run a few experiments with different optimizers and learning rates. \n",
    "- Don't forgot to [**switch to GPU on if you're running your notebook on Colab!**](https://colab.research.google.com/notebooks/gpu.ipynb)"
   ]
  },
  {
   "cell_type": "markdown",
   "metadata": {
    "colab_type": "text",
    "id": "s-Tc3ovEyQ9b"
   },
   "source": [
    "## Load Your Data"
   ]
  },
  {
   "cell_type": "code",
   "execution_count": 1,
   "metadata": {
    "colab": {},
    "colab_type": "code",
    "id": "CkU0pAYCvU8o"
   },
   "outputs": [],
   "source": [
    "# imports in first cell \n",
    "import seaborn as sns\n",
    "import pandas as pd\n",
    "import numpy as np\n",
    "import tensorflow as tf \n",
    "import matplotlib.pyplot as plt\n",
    "from sklearn.utils import shuffle\n",
    "\n",
    "# use Sequential to build out your model\n",
    "from tensorflow.keras.models import Sequential\n",
    "\n",
    "# Dense layer is used for Fully Connected Forward Feeding networks\n",
    "from tensorflow.keras.layers import Dense"
   ]
  },
  {
   "cell_type": "code",
   "execution_count": 2,
   "metadata": {
    "colab": {},
    "colab_type": "code",
    "id": "CkU0pAYCvU8o"
   },
   "outputs": [
    {
     "name": "stdout",
     "output_type": "stream",
     "text": [
      "(100000, 784)\n",
      "(100000,)\n"
     ]
    }
   ],
   "source": [
    "# load in data set\n",
    "data = np.load('../quickdraw10.npz')\n",
    "X = data['arr_0']\n",
    "y = data['arr_1']\n",
    "\n",
    "\n",
    "print(X.shape)\n",
    "print(y.shape)"
   ]
  },
  {
   "cell_type": "code",
   "execution_count": 3,
   "metadata": {
    "colab": {},
    "colab_type": "code",
    "id": "c8qsDqdqvHDd"
   },
   "outputs": [],
   "source": [
    "class_names = ['apple',\n",
    "             'anvil',\n",
    "             'airplane',\n",
    "             'banana',\n",
    "             'The Eiffel Tower',\n",
    "             'The Mona Lisa',\n",
    "             'The Great Wall of China',\n",
    "             'alarm clock',\n",
    "             'ant',\n",
    "             'asparagus']"
   ]
  },
  {
   "cell_type": "code",
   "execution_count": 4,
   "metadata": {
    "colab": {},
    "colab_type": "code",
    "id": "Owbm1EbxvA5A"
   },
   "outputs": [
    {
     "data": {
      "image/png": "[encoded data removed]",
      "text/plain": [
       "<Figure size 720x360 with 10 Axes>"
      ]
     },
     "metadata": {},
     "output_type": "display_data"
    }
   ],
   "source": [
    "# these are your 10 unique images\n",
    "plt.figure(figsize=(10,5))\n",
    "start = 0\n",
    "\n",
    "for num, name in enumerate(class_names):\n",
    "    plt.subplot(2,5, num+1)\n",
    "    plt.xticks([])\n",
    "    plt.yticks([])\n",
    "    plt.grid(False)\n",
    "    plt.imshow(X[start].reshape(28,28), cmap=plt.cm.binary)\n",
    "    plt.xlabel(name)\n",
    "    start += 10000\n",
    "plt.show()"
   ]
  },
  {
   "cell_type": "markdown",
   "metadata": {},
   "source": [
    "Say hello to the Quickdraw dataset. \n",
    "\n",
    "You'll be using this dataset a lot this week as an alternative to the mnist which we'll be using in the guided projects. The nice thing about this dataset is that it's simple, which allows us to focus on our model, it's various components, and gradually coming to a better understand of how to build neural networks without worrying about cleaning and preping our image data too much. "
   ]
  },
  {
   "cell_type": "code",
   "execution_count": 5,
   "metadata": {
    "colab": {},
    "colab_type": "code",
    "id": "c97_M1WNvTNY"
   },
   "outputs": [],
   "source": [
    "# always a good idea to shuffle your dataset \n",
    "X, y = shuffle(X, y)"
   ]
  },
  {
   "cell_type": "markdown",
   "metadata": {
    "colab_type": "text",
    "id": "jb70CbLVyK65"
   },
   "source": [
    "-----\n",
    "\n",
    "## Build Your Baseline Model\n",
    "\n",
    "Make sure that you\n",
    "\n",
    "- **Determine** the dimensionality of your input data by investigating **X**\n",
    "- **Normalize** your input data to values between 0 and 1 \n",
    "- **Determine** the number of neurons in your output layer by investigating **Y**\n",
    "- **Select** `sparse_categorical_crossentropy` as your loss function.\n",
    "- **Select** `sgd` as your optimizer.\n",
    "- **Add** 3 hidden layers to your model with the following number of nodes\n",
    "    - h1 has 500 nodes\n",
    "    - h2 has 250 nodes\n",
    "    - h3 has 100 nodes\n",
    "    \n",
    "- **Set** epochs to 20 \n",
    "- **Use** the `validation_split` command to automatically create a training / validation dataset from within the model, so you don't have to do it yourself.\n",
    "    -  Specify a percentage such as .2 in your fit statement.\n",
    " \n",
    " \n",
    "Not sure what the various parameters are for or what what values to assign to them?\n",
    "\n",
    "- Reference the guided project notebook for Sprint 2 Module 1\n",
    "- Reference the [**Keras documentation**](https://keras.io/api/)\n",
    "- Google other examples\n",
    "- Discuss your results with classmates "
   ]
  },
  {
   "cell_type": "code",
   "execution_count": 6,
   "metadata": {
    "scrolled": true
   },
   "outputs": [
    {
     "data": {
      "text/plain": [
       "(100000, 784)"
      ]
     },
     "execution_count": 6,
     "metadata": {},
     "output_type": "execute_result"
    }
   ],
   "source": [
    "X.shape"
   ]
  },
  {
   "cell_type": "code",
   "execution_count": 7,
   "metadata": {
    "deletable": false,
    "nbgrader": {
     "cell_type": "code",
     "checksum": "ef20dd34df6998e0a50e394d59d58659",
     "grade": false,
     "grade_id": "cell-907b9348d7a2ebb3",
     "locked": false,
     "schema_version": 3,
     "solution": true,
     "task": false
    }
   },
   "outputs": [],
   "source": [
    "# get dim of image row vectors and save to imput_dim\n",
    "imput_dim = X.shape[1]\n",
    "\n",
    "# get number of unique labels and save to n_output_nodels\n",
    "n_output_nodels = len(np.unique(y))\n",
    "\n",
    "# normalize image data to values between 0 and 1 (by dividing by max pixel value)\n",
    "max_pixel_value = 255\n",
    "X_scaled = X.astype('float32') / max_pixel_value"
   ]
  },
  {
   "cell_type": "code",
   "execution_count": 8,
   "metadata": {},
   "outputs": [
    {
     "data": {
      "text/plain": [
       "10"
      ]
     },
     "execution_count": 8,
     "metadata": {},
     "output_type": "execute_result"
    }
   ],
   "source": [
    "n_output_nodels"
   ]
  },
  {
   "cell_type": "code",
   "execution_count": 9,
   "metadata": {},
   "outputs": [],
   "source": [
    "# a check on your data prep \n",
    "assert  X_scaled.max(), \"Max pixel value should be 1.0, make sure you normalize your data\""
   ]
  },
  {
   "cell_type": "code",
   "execution_count": 10,
   "metadata": {
    "colab": {},
    "colab_type": "code",
    "deletable": false,
    "id": "zHWblzsMyNkU",
    "nbgrader": {
     "cell_type": "code",
     "checksum": "f0ba174cb72f491f73c3aa7df8ae7ac4",
     "grade": false,
     "grade_id": "cell-b7c96fc46d86725f",
     "locked": false,
     "schema_version": 3,
     "solution": true,
     "task": false
    }
   },
   "outputs": [],
   "source": [
    "# instantiate a sequential object and call it model, then add layers to your model\n",
    "model = Sequential()\n",
    "\n",
    "model.add(Dense(500,\n",
    "                activation='sigmoid',\n",
    "                input_dim=imput_dim,\n",
    "                name='h1'\n",
    "               ))\n",
    "\n",
    "model.add(Dense(250,\n",
    "                activation='sigmoid',\n",
    "                name='h2'))\n",
    "\n",
    "model.add(Dense(100,\n",
    "                activation='sigmoid',\n",
    "                name='h3'))\n",
    "\n",
    "model.add(Dense(10, \n",
    "                activation='softmax',\n",
    "                name='output'))\n",
    "\n",
    "# add a compile layer but don't fit your model yet \n",
    "model.compile(\n",
    "    optimizer='sgd',\n",
    "    loss='sparse_categorical_crossentropy',\n",
    "    metrics=['accuracy']\n",
    ")"
   ]
  },
  {
   "cell_type": "code",
   "execution_count": 11,
   "metadata": {
    "scrolled": true
   },
   "outputs": [],
   "source": [
    "# a check on your model architecture \n",
    "n_layers = len(model.get_config()[\"layers\"])\n",
    "assert n_layers == 5, \"You should have 5 layers: input, h1, h2, h3, and output\""
   ]
  },
  {
   "cell_type": "code",
   "execution_count": 12,
   "metadata": {},
   "outputs": [
    {
     "name": "stdout",
     "output_type": "stream",
     "text": [
      "Model: \"sequential\"\n",
      "_________________________________________________________________\n",
      "Layer (type)                 Output Shape              Param #   \n",
      "=================================================================\n",
      "h1 (Dense)                   (None, 500)               392500    \n",
      "_________________________________________________________________\n",
      "h2 (Dense)                   (None, 250)               125250    \n",
      "_________________________________________________________________\n",
      "h3 (Dense)                   (None, 100)               25100     \n",
      "_________________________________________________________________\n",
      "output (Dense)               (None, 10)                1010      \n",
      "=================================================================\n",
      "Total params: 543,860\n",
      "Trainable params: 543,860\n",
      "Non-trainable params: 0\n",
      "_________________________________________________________________\n"
     ]
    }
   ],
   "source": [
    "# check out your model summary \n",
    "model.summary()"
   ]
  },
  {
   "cell_type": "code",
   "execution_count": 13,
   "metadata": {
    "colab": {},
    "colab_type": "code",
    "id": "zHWblzsMyNkU"
   },
   "outputs": [
    {
     "name": "stdout",
     "output_type": "stream",
     "text": [
      "Epoch 1/20\n",
      "2500/2500 [==============================] - 7s 3ms/step - loss: 2.3012 - accuracy: 0.1187 - val_loss: 2.2720 - val_accuracy: 0.2666\n",
      "Epoch 2/20\n",
      "2500/2500 [==============================] - 6s 2ms/step - loss: 2.2539 - accuracy: 0.2382 - val_loss: 2.1321 - val_accuracy: 0.3823\n",
      "Epoch 3/20\n",
      "2500/2500 [==============================] - 6s 2ms/step - loss: 2.0235 - accuracy: 0.3868 - val_loss: 1.7371 - val_accuracy: 0.4030\n",
      "Epoch 4/20\n",
      "2500/2500 [==============================] - 6s 3ms/step - loss: 1.6569 - accuracy: 0.4789 - val_loss: 1.4617 - val_accuracy: 0.5462\n",
      "Epoch 5/20\n",
      "2500/2500 [==============================] - 7s 3ms/step - loss: 1.3945 - accuracy: 0.5700 - val_loss: 1.2355 - val_accuracy: 0.6309\n",
      "Epoch 6/20\n",
      "2500/2500 [==============================] - 6s 2ms/step - loss: 1.1766 - accuracy: 0.6392 - val_loss: 1.0893 - val_accuracy: 0.6665\n",
      "Epoch 7/20\n",
      "2500/2500 [==============================] - 7s 3ms/step - loss: 1.0557 - accuracy: 0.6783 - val_loss: 1.0246 - val_accuracy: 0.6847\n",
      "Epoch 8/20\n",
      "2500/2500 [==============================] - 7s 3ms/step - loss: 0.9972 - accuracy: 0.6974 - val_loss: 0.9895 - val_accuracy: 0.6988\n",
      "Epoch 9/20\n",
      "2500/2500 [==============================] - 7s 3ms/step - loss: 0.9637 - accuracy: 0.7058 - val_loss: 0.9689 - val_accuracy: 0.7035\n",
      "Epoch 10/20\n",
      "2500/2500 [==============================] - 8s 3ms/step - loss: 0.9460 - accuracy: 0.7155 - val_loss: 0.9414 - val_accuracy: 0.7189\n",
      "Epoch 11/20\n",
      "2500/2500 [==============================] - 7s 3ms/step - loss: 0.9212 - accuracy: 0.7231 - val_loss: 0.9204 - val_accuracy: 0.7233\n",
      "Epoch 12/20\n",
      "2500/2500 [==============================] - 7s 3ms/step - loss: 0.8938 - accuracy: 0.7318 - val_loss: 0.9019 - val_accuracy: 0.7305\n",
      "Epoch 13/20\n",
      "2500/2500 [==============================] - 7s 3ms/step - loss: 0.8808 - accuracy: 0.7376 - val_loss: 0.8828 - val_accuracy: 0.7349\n",
      "Epoch 14/20\n",
      "2500/2500 [==============================] - 8s 3ms/step - loss: 0.8588 - accuracy: 0.7447 - val_loss: 0.8675 - val_accuracy: 0.7411\n",
      "Epoch 15/20\n",
      "2500/2500 [==============================] - 9s 4ms/step - loss: 0.8502 - accuracy: 0.7471 - val_loss: 0.8573 - val_accuracy: 0.7431\n",
      "Epoch 16/20\n",
      "2500/2500 [==============================] - 8s 3ms/step - loss: 0.8346 - accuracy: 0.7506 - val_loss: 0.8428 - val_accuracy: 0.7482\n",
      "Epoch 17/20\n",
      "2500/2500 [==============================] - 7s 3ms/step - loss: 0.8165 - accuracy: 0.7572 - val_loss: 0.8300 - val_accuracy: 0.7534\n",
      "Epoch 18/20\n",
      "2500/2500 [==============================] - 7s 3ms/step - loss: 0.8065 - accuracy: 0.7599 - val_loss: 0.8226 - val_accuracy: 0.7566\n",
      "Epoch 19/20\n",
      "2500/2500 [==============================] - 8s 3ms/step - loss: 0.7946 - accuracy: 0.7651 - val_loss: 0.8104 - val_accuracy: 0.7599\n",
      "Epoch 20/20\n",
      "2500/2500 [==============================] - 8s 3ms/step - loss: 0.7847 - accuracy: 0.7645 - val_loss: 0.8038 - val_accuracy: 0.7613\n"
     ]
    }
   ],
   "source": [
    "epochs = 20\n",
    "# fit your model and save training resuts to history \n",
    "history = model.fit(X_scaled, y, \n",
    "                    epochs=epochs, \n",
    "                    # test set will be generated within the model\n",
    "                    validation_split=0.2\n",
    "                   )"
   ]
  },
  {
   "cell_type": "markdown",
   "metadata": {
    "colab_type": "text",
    "id": "b0QJURWh-9uv"
   },
   "source": [
    "----\n",
    "### Visualize the results\n",
    "\n",
    "- Move results in `history` in a dataframe \n",
    "- Use [**Seaborn**](https://seaborn.pydata.org/generated/seaborn.lineplot.html) to create lineplots for both loss and accuracy by epoch. \n",
    "- Analyze the results and write a couple of obsverations. \n",
    "\n",
    "At what point should we have stopped training the model and why? "
   ]
  },
  {
   "cell_type": "code",
   "execution_count": 14,
   "metadata": {
    "colab": {},
    "colab_type": "code",
    "deletable": false,
    "id": "ijAlzfYKAFaY",
    "nbgrader": {
     "cell_type": "code",
     "checksum": "6ef8cde40701c2ef57cf853b19455125",
     "grade": false,
     "grade_id": "cell-16e647cfc3291a01",
     "locked": false,
     "schema_version": 3,
     "solution": true,
     "task": false
    }
   },
   "outputs": [
    {
     "data": {
      "text/html": [
       "<div>\n",
       "<style scoped>\n",
       "    .dataframe tbody tr th:only-of-type {\n",
       "        vertical-align: middle;\n",
       "    }\n",
       "\n",
       "    .dataframe tbody tr th {\n",
       "        vertical-align: top;\n",
       "    }\n",
       "\n",
       "    .dataframe thead th {\n",
       "        text-align: right;\n",
       "    }\n",
       "</style>\n",
       "<table border=\"1\" class=\"dataframe\">\n",
       "  <thead>\n",
       "    <tr style=\"text-align: right;\">\n",
       "      <th></th>\n",
       "      <th>loss</th>\n",
       "      <th>accuracy</th>\n",
       "      <th>val_loss</th>\n",
       "      <th>val_accuracy</th>\n",
       "      <th>epochs</th>\n",
       "    </tr>\n",
       "  </thead>\n",
       "  <tbody>\n",
       "    <tr>\n",
       "      <th>0</th>\n",
       "      <td>2.291216</td>\n",
       "      <td>0.136637</td>\n",
       "      <td>2.271968</td>\n",
       "      <td>0.26655</td>\n",
       "      <td>0</td>\n",
       "    </tr>\n",
       "    <tr>\n",
       "      <th>1</th>\n",
       "      <td>2.224612</td>\n",
       "      <td>0.279188</td>\n",
       "      <td>2.132097</td>\n",
       "      <td>0.38230</td>\n",
       "      <td>1</td>\n",
       "    </tr>\n",
       "    <tr>\n",
       "      <th>2</th>\n",
       "      <td>1.916056</td>\n",
       "      <td>0.419675</td>\n",
       "      <td>1.737070</td>\n",
       "      <td>0.40300</td>\n",
       "      <td>2</td>\n",
       "    </tr>\n",
       "    <tr>\n",
       "      <th>3</th>\n",
       "      <td>1.579829</td>\n",
       "      <td>0.509050</td>\n",
       "      <td>1.461667</td>\n",
       "      <td>0.54620</td>\n",
       "      <td>3</td>\n",
       "    </tr>\n",
       "    <tr>\n",
       "      <th>4</th>\n",
       "      <td>1.333017</td>\n",
       "      <td>0.588313</td>\n",
       "      <td>1.235536</td>\n",
       "      <td>0.63090</td>\n",
       "      <td>4</td>\n",
       "    </tr>\n",
       "  </tbody>\n",
       "</table>\n",
       "</div>"
      ],
      "text/plain": [
       "       loss  accuracy  val_loss  val_accuracy  epochs\n",
       "0  2.291216  0.136637  2.271968       0.26655       0\n",
       "1  2.224612  0.279188  2.132097       0.38230       1\n",
       "2  1.916056  0.419675  1.737070       0.40300       2\n",
       "3  1.579829  0.509050  1.461667       0.54620       3\n",
       "4  1.333017  0.588313  1.235536       0.63090       4"
      ]
     },
     "execution_count": 14,
     "metadata": {},
     "output_type": "execute_result"
    }
   ],
   "source": [
    "df = pd.DataFrame(history.history)\n",
    "df['epochs'] = range(20)\n",
    "df.head()"
   ]
  },
  {
   "cell_type": "code",
   "execution_count": 15,
   "metadata": {},
   "outputs": [],
   "source": [
    "# a check on our model training\n",
    "assert df.shape[0] == 20, \"df should have the training results from 20 epochs\""
   ]
  },
  {
   "cell_type": "code",
   "execution_count": 16,
   "metadata": {
    "colab": {},
    "colab_type": "code",
    "deletable": false,
    "id": "ijAlzfYKAFaY",
    "nbgrader": {
     "cell_type": "code",
     "checksum": "424d241660318a72ecda935be10485d7",
     "grade": false,
     "grade_id": "cell-96dba18873c4cffc",
     "locked": false,
     "schema_version": 3,
     "solution": true,
     "task": false
    },
    "scrolled": true
   },
   "outputs": [
    {
     "data": {
      "image/png": "[encoded data removed]",
      "text/plain": [
       "<Figure size 432x288 with 1 Axes>"
      ]
     },
     "metadata": {
      "needs_background": "light"
     },
     "output_type": "display_data"
    }
   ],
   "source": [
    "# use the plotting method in your dataframe to plot the modeling results \n",
    "sns.lineplot(data=df, x='epochs', y='loss', label='train')\n",
    "sns.lineplot(data=df, x='epochs', y='val_loss', label='test');"
   ]
  },
  {
   "cell_type": "code",
   "execution_count": 17,
   "metadata": {},
   "outputs": [
    {
     "data": {
      "image/png": "[encoded data removed]",
      "text/plain": [
       "<Figure size 432x288 with 1 Axes>"
      ]
     },
     "metadata": {
      "needs_background": "light"
     },
     "output_type": "display_data"
    }
   ],
   "source": [
    "sns.lineplot(data=df, x='epochs', y='accuracy', label='train')\n",
    "sns.lineplot(data=df, x='epochs', y='val_accuracy', label='test');"
   ]
  },
  {
   "cell_type": "markdown",
   "metadata": {},
   "source": [
    "### Observations \n",
    "\n",
    "Based on the plot of the training and validation loss answer the following questions. "
   ]
  },
  {
   "cell_type": "markdown",
   "metadata": {},
   "source": [
    "**Was our model able to learn over the course of the 20 epochs? Why or why not?**"
   ]
  },
  {
   "cell_type": "markdown",
   "metadata": {
    "deletable": false,
    "nbgrader": {
     "cell_type": "markdown",
     "checksum": "b7713eb32ad3a910a58dfdb9494a9db3",
     "grade": true,
     "grade_id": "cell-820990a8232a858a",
     "locked": false,
     "points": 0,
     "schema_version": 3,
     "solution": true,
     "task": false
    }
   },
   "source": [
    "Yes, because the accuracy increased over each epoch."
   ]
  },
  {
   "cell_type": "markdown",
   "metadata": {},
   "source": [
    "**Is our model overfitting? Why or why not?**"
   ]
  },
  {
   "cell_type": "markdown",
   "metadata": {
    "deletable": false,
    "nbgrader": {
     "cell_type": "markdown",
     "checksum": "1d30c64465cd35081d70578c20ecf96d",
     "grade": true,
     "grade_id": "cell-33868e7ef6e401b5",
     "locked": false,
     "points": 0,
     "schema_version": 3,
     "solution": true,
     "task": false
    }
   },
   "source": [
    "My model is not overfitting. I know this, because there is no space between the two loss curves."
   ]
  },
  {
   "cell_type": "markdown",
   "metadata": {},
   "source": [
    "**Could the model score benefit from additional epochs? Why or why not?**"
   ]
  },
  {
   "cell_type": "markdown",
   "metadata": {
    "deletable": false,
    "nbgrader": {
     "cell_type": "markdown",
     "checksum": "0fc2208e2c78461578fc7a05224066b8",
     "grade": true,
     "grade_id": "cell-5c883f0a3161e469",
     "locked": false,
     "points": 0,
     "schema_version": 3,
     "solution": true,
     "task": false
    }
   },
   "source": [
    "It could, but not too many. Having too many could lead to overfitting. A few more would not be bad, to boost the accuracy a little bit more, closer to 0.8 (possibly even over 0.8)."
   ]
  },
  {
   "cell_type": "markdown",
   "metadata": {
    "colab_type": "text",
    "id": "MAhBrcE4yOZe"
   },
   "source": [
    "-----\n",
    "## Change Optimizers\n",
    "\n",
    "Let's compare model performance between difference optimizers. \n",
    "- Build a new model, identical as the last one but using `adam` for the optimizer. \n",
    "- Visualize the training results just as we did for the last model. \n",
    "- Save modeling results to adam_history so we don't erase the results from the previous model run"
   ]
  },
  {
   "cell_type": "code",
   "execution_count": 18,
   "metadata": {
    "colab": {},
    "colab_type": "code",
    "deletable": false,
    "id": "jIW_spOZ0cxy",
    "nbgrader": {
     "cell_type": "code",
     "checksum": "6d30d8c6f4521861a77c9ef04dbde904",
     "grade": false,
     "grade_id": "cell-56663c8a5e75b71f",
     "locked": false,
     "schema_version": 3,
     "solution": true,
     "task": false
    }
   },
   "outputs": [],
   "source": [
    "# train same model as above but use sgd if you used adam previously ( or use adam if you used sgd previously)\n",
    "model = Sequential()\n",
    "\n",
    "model.add(Dense(500,\n",
    "                activation='sigmoid',\n",
    "                input_dim=imput_dim,\n",
    "                name='h1'\n",
    "               ))\n",
    "\n",
    "model.add(Dense(250,\n",
    "                activation='sigmoid',\n",
    "                name='h2'))\n",
    "\n",
    "model.add(Dense(100,\n",
    "                activation='sigmoid',\n",
    "                name='h3'))\n",
    "\n",
    "model.add(Dense(n_output_nodels, \n",
    "                activation='softmax',\n",
    "                name='output_Adam'))\n",
    "\n",
    "# add a compile layer but don't fit your model yet \n",
    "model.compile(\n",
    "    optimizer='Adam',\n",
    "    loss='sparse_categorical_crossentropy',\n",
    "    metrics=['accuracy']\n",
    ")"
   ]
  },
  {
   "cell_type": "code",
   "execution_count": 19,
   "metadata": {},
   "outputs": [],
   "source": [
    "# a check that we're using the correct optimizer in this model\n",
    "opt_name = model.optimizer.get_config()[\"name\"]\n",
    "assert opt_name == \"Adam\", \"you need to use adam for the optimizer in this model.\""
   ]
  },
  {
   "cell_type": "code",
   "execution_count": 20,
   "metadata": {
    "deletable": false,
    "nbgrader": {
     "cell_type": "code",
     "checksum": "1a4c01aa7dbcc832d75b05bffaeaacc8",
     "grade": false,
     "grade_id": "cell-20118d1646215346",
     "locked": false,
     "schema_version": 3,
     "solution": true,
     "task": false
    }
   },
   "outputs": [
    {
     "name": "stdout",
     "output_type": "stream",
     "text": [
      "Epoch 1/20\n",
      "2500/2500 [==============================] - 9s 3ms/step - loss: 1.0188 - accuracy: 0.6776 - val_loss: 0.5629 - val_accuracy: 0.8286\n",
      "Epoch 2/20\n",
      "2500/2500 [==============================] - 8s 3ms/step - loss: 0.5076 - accuracy: 0.8475 - val_loss: 0.4734 - val_accuracy: 0.8558\n",
      "Epoch 3/20\n",
      "2500/2500 [==============================] - 7s 3ms/step - loss: 0.4173 - accuracy: 0.8738 - val_loss: 0.4497 - val_accuracy: 0.8650\n",
      "Epoch 4/20\n",
      "2500/2500 [==============================] - 8s 3ms/step - loss: 0.3553 - accuracy: 0.8924 - val_loss: 0.4293 - val_accuracy: 0.8713\n",
      "Epoch 5/20\n",
      "2500/2500 [==============================] - 8s 3ms/step - loss: 0.3103 - accuracy: 0.9076 - val_loss: 0.4191 - val_accuracy: 0.8752\n",
      "Epoch 6/20\n",
      "2500/2500 [==============================] - 11s 4ms/step - loss: 0.2681 - accuracy: 0.9205 - val_loss: 0.4209 - val_accuracy: 0.8770\n",
      "Epoch 7/20\n",
      "2500/2500 [==============================] - 9s 4ms/step - loss: 0.2266 - accuracy: 0.9325 - val_loss: 0.4247 - val_accuracy: 0.8802\n",
      "Epoch 8/20\n",
      "2500/2500 [==============================] - 8s 3ms/step - loss: 0.2030 - accuracy: 0.9394 - val_loss: 0.4567 - val_accuracy: 0.8790\n",
      "Epoch 9/20\n",
      "2500/2500 [==============================] - 9s 4ms/step - loss: 0.1658 - accuracy: 0.9494 - val_loss: 0.4602 - val_accuracy: 0.8795\n",
      "Epoch 10/20\n",
      "2500/2500 [==============================] - 9s 3ms/step - loss: 0.1475 - accuracy: 0.9556 - val_loss: 0.4884 - val_accuracy: 0.8799\n",
      "Epoch 11/20\n",
      "2500/2500 [==============================] - 9s 4ms/step - loss: 0.1271 - accuracy: 0.9621 - val_loss: 0.5179 - val_accuracy: 0.8768\n",
      "Epoch 12/20\n",
      "2500/2500 [==============================] - 8s 3ms/step - loss: 0.1136 - accuracy: 0.9664 - val_loss: 0.5302 - val_accuracy: 0.8796\n",
      "Epoch 13/20\n",
      "2500/2500 [==============================] - 8s 3ms/step - loss: 0.1022 - accuracy: 0.9692 - val_loss: 0.5693 - val_accuracy: 0.8702\n",
      "Epoch 14/20\n",
      "2500/2500 [==============================] - 7s 3ms/step - loss: 0.0842 - accuracy: 0.9755 - val_loss: 0.6152 - val_accuracy: 0.8742\n",
      "Epoch 15/20\n",
      "2500/2500 [==============================] - 9s 3ms/step - loss: 0.0755 - accuracy: 0.9777 - val_loss: 0.6347 - val_accuracy: 0.8748\n",
      "Epoch 16/20\n",
      "2500/2500 [==============================] - 8s 3ms/step - loss: 0.0675 - accuracy: 0.9797 - val_loss: 0.6454 - val_accuracy: 0.8774\n",
      "Epoch 17/20\n",
      "2500/2500 [==============================] - 9s 3ms/step - loss: 0.0593 - accuracy: 0.9814 - val_loss: 0.6582 - val_accuracy: 0.8738\n",
      "Epoch 18/20\n",
      "2500/2500 [==============================] - 8s 3ms/step - loss: 0.0529 - accuracy: 0.9841 - val_loss: 0.7060 - val_accuracy: 0.8767\n",
      "Epoch 19/20\n",
      "2500/2500 [==============================] - 9s 4ms/step - loss: 0.0489 - accuracy: 0.9846 - val_loss: 0.7161 - val_accuracy: 0.8760\n",
      "Epoch 20/20\n",
      "2500/2500 [==============================] - 9s 3ms/step - loss: 0.0461 - accuracy: 0.9858 - val_loss: 0.7537 - val_accuracy: 0.8702\n"
     ]
    }
   ],
   "source": [
    "adam_history = model.fit(X_scaled, y, \n",
    "                    epochs=epochs, \n",
    "                    # test set will be generated within the model\n",
    "                    validation_split=0.2\n",
    ")"
   ]
  },
  {
   "cell_type": "code",
   "execution_count": 21,
   "metadata": {},
   "outputs": [
    {
     "data": {
      "text/html": [
       "<div>\n",
       "<style scoped>\n",
       "    .dataframe tbody tr th:only-of-type {\n",
       "        vertical-align: middle;\n",
       "    }\n",
       "\n",
       "    .dataframe tbody tr th {\n",
       "        vertical-align: top;\n",
       "    }\n",
       "\n",
       "    .dataframe thead th {\n",
       "        text-align: right;\n",
       "    }\n",
       "</style>\n",
       "<table border=\"1\" class=\"dataframe\">\n",
       "  <thead>\n",
       "    <tr style=\"text-align: right;\">\n",
       "      <th></th>\n",
       "      <th>loss</th>\n",
       "      <th>accuracy</th>\n",
       "      <th>val_loss</th>\n",
       "      <th>val_accuracy</th>\n",
       "      <th>epochs</th>\n",
       "    </tr>\n",
       "  </thead>\n",
       "  <tbody>\n",
       "    <tr>\n",
       "      <th>0</th>\n",
       "      <td>0.750538</td>\n",
       "      <td>0.769950</td>\n",
       "      <td>0.562930</td>\n",
       "      <td>0.82860</td>\n",
       "      <td>0</td>\n",
       "    </tr>\n",
       "    <tr>\n",
       "      <th>1</th>\n",
       "      <td>0.491451</td>\n",
       "      <td>0.851888</td>\n",
       "      <td>0.473448</td>\n",
       "      <td>0.85585</td>\n",
       "      <td>1</td>\n",
       "    </tr>\n",
       "    <tr>\n",
       "      <th>2</th>\n",
       "      <td>0.412388</td>\n",
       "      <td>0.875013</td>\n",
       "      <td>0.449696</td>\n",
       "      <td>0.86495</td>\n",
       "      <td>2</td>\n",
       "    </tr>\n",
       "    <tr>\n",
       "      <th>3</th>\n",
       "      <td>0.353865</td>\n",
       "      <td>0.893025</td>\n",
       "      <td>0.429295</td>\n",
       "      <td>0.87135</td>\n",
       "      <td>3</td>\n",
       "    </tr>\n",
       "    <tr>\n",
       "      <th>4</th>\n",
       "      <td>0.310745</td>\n",
       "      <td>0.906975</td>\n",
       "      <td>0.419098</td>\n",
       "      <td>0.87520</td>\n",
       "      <td>4</td>\n",
       "    </tr>\n",
       "  </tbody>\n",
       "</table>\n",
       "</div>"
      ],
      "text/plain": [
       "       loss  accuracy  val_loss  val_accuracy  epochs\n",
       "0  0.750538  0.769950  0.562930       0.82860       0\n",
       "1  0.491451  0.851888  0.473448       0.85585       1\n",
       "2  0.412388  0.875013  0.449696       0.86495       2\n",
       "3  0.353865  0.893025  0.429295       0.87135       3\n",
       "4  0.310745  0.906975  0.419098       0.87520       4"
      ]
     },
     "execution_count": 21,
     "metadata": {},
     "output_type": "execute_result"
    }
   ],
   "source": [
    "adam_df = pd.DataFrame(adam_history.history)\n",
    "adam_df['epochs'] = range(20)\n",
    "adam_df.head()"
   ]
  },
  {
   "cell_type": "code",
   "execution_count": 22,
   "metadata": {},
   "outputs": [
    {
     "data": {
      "image/png": "[encoded data removed]",
      "text/plain": [
       "<Figure size 432x288 with 1 Axes>"
      ]
     },
     "metadata": {
      "needs_background": "light"
     },
     "output_type": "display_data"
    }
   ],
   "source": [
    "sns.lineplot(data=adam_df, x='epochs', y='loss', label='train')\n",
    "sns.lineplot(data=adam_df, x='epochs', y='val_loss', label='test');"
   ]
  },
  {
   "cell_type": "code",
   "execution_count": 23,
   "metadata": {},
   "outputs": [
    {
     "data": {
      "image/png": "[encoded data removed]",
      "text/plain": [
       "<Figure size 432x288 with 1 Axes>"
      ]
     },
     "metadata": {
      "needs_background": "light"
     },
     "output_type": "display_data"
    }
   ],
   "source": [
    "sns.lineplot(data=adam_df, x='epochs', y='accuracy', label='train')\n",
    "sns.lineplot(data=adam_df, x='epochs', y='val_accuracy', label='test');"
   ]
  },
  {
   "cell_type": "markdown",
   "metadata": {},
   "source": [
    "### Observations \n",
    "\n",
    "This plot should look very different from the previous plot. Based on the plot of the training and validation loss answer the following questions. "
   ]
  },
  {
   "cell_type": "markdown",
   "metadata": {},
   "source": [
    "**Is our model overfitting? Why or why not?**"
   ]
  },
  {
   "cell_type": "markdown",
   "metadata": {
    "deletable": false,
    "nbgrader": {
     "cell_type": "markdown",
     "checksum": "fa4141497af675d227aa510feb8db732",
     "grade": true,
     "grade_id": "cell-7e524ccac970c33e",
     "locked": false,
     "points": 0,
     "schema_version": 3,
     "solution": true,
     "task": false
    }
   },
   "source": [
    "Yes, because there is a lot of space between the two loss curves. Another thing that points to overfitting is the very high accuracy for the training set."
   ]
  },
  {
   "cell_type": "markdown",
   "metadata": {},
   "source": [
    "**Could our model's performance improve by training on more than 20 epochs? Why or why not?**"
   ]
  },
  {
   "cell_type": "markdown",
   "metadata": {
    "deletable": false,
    "nbgrader": {
     "cell_type": "markdown",
     "checksum": "ae03b8b897eb5d052590574ab3bba839",
     "grade": true,
     "grade_id": "cell-456c40e885652955",
     "locked": false,
     "points": 0,
     "schema_version": 3,
     "solution": true,
     "task": false
    }
   },
   "source": [
    "No, it would not. This model was trained on too many epochs, leading to the overfitting."
   ]
  },
  {
   "cell_type": "markdown",
   "metadata": {},
   "source": [
    "**Assuming that you want to stick to this model architecture, what can you do to avoid overfitting?**"
   ]
  },
  {
   "cell_type": "markdown",
   "metadata": {
    "deletable": false,
    "nbgrader": {
     "cell_type": "markdown",
     "checksum": "9f5a9393314231d3ce253363c1df1223",
     "grade": true,
     "grade_id": "cell-74d7def19c66702b",
     "locked": false,
     "points": 0,
     "schema_version": 3,
     "solution": true,
     "task": false
    }
   },
   "source": [
    "I could train the model on less epochs."
   ]
  },
  {
   "cell_type": "markdown",
   "metadata": {},
   "source": [
    "------\n",
    "# Conclusion \n",
    "\n",
    "What you have observed by comparing the two models that are identitical, except for the optimizer, is that the choice of the optimizer can have a very big influence in the training outcome of ML models in general and in a neural networks in particuar. \n",
    "\n",
    "You might not actually know \n",
    "\n",
    "- why changing the optimizer from Stocastic Gradient Descent over to Adam made a difference.\n",
    "- how Gradient Desecent works \n",
    "- or that Adam is known as Adaptive Gradient Descent (i.e. is it a different version of ordinary Gradient Descent). \n",
    "\n",
    "But that's ok - tomorrow's lesson will be a deep dive into Gradient Descent. You'll learn the theory of Gradient Descent, we'll code up Gradient Descent from scratch, and we'll talk about how Adam is different from ordinary Gradient Descent. "
   ]
  },
  {
   "cell_type": "markdown",
   "metadata": {},
   "source": [
    "-----\n",
    "# Preparation for Tomorrow \n",
    "\n",
    "In Preparation for tomorrow, you might need to watch a few videos. I say might because you may or may not already be comfortable with multi-variate calculus. \n",
    "\n",
    "### Theory of Calculus \n",
    "The theory of Gradient Descent rest on [**the derivative from Calculus**](https://www.youtube.com/watch?v=WUvTyaaNkzM). If you've never taken a Calculus course before, or are a bit rusty, definitely watch this video in preparation for tomorrow's lesson. The take away here is to conceptually understand the derivative, you won't be asked to actually calculate any derivatives by hand. \n",
    "\n",
    "### The Gradient - a multi-dimensional derivative\n",
    "Once you've watched the previous video, you are now set up to  understand how to conceptualize a derivative in an N-dimensional space (where N is any number ranging from 2, 3, 4, ..., all the way to a very large number of dimensions N ) [**This video visually explains the multi-dimensional derivative called the Gradient visually**](https://www.youtube.com/watch?v=GkB4vW16QHI) - and that's the take away. This point of this video is to help you understand the Gradient visually using 3D surfaces. You should also know that the Gradient is made of up partial derivatives, more on this tomorrow. \n",
    "\n",
    "### Contour Maps \n",
    "It is very common to visual 3D surfaces as 2D contour maps - and we'll be making a lot of use of contour maps to understand Gradient Descent. Watch this video in order to [**understand the relationship between 3D surfaces and 2D contour maps**](https://www.youtube.com/watch?v=acdX4YamDtU)\n",
    "\n",
    "### The Calculus of Backpropagation \n",
    "\n",
    "Unlike standard Sklearn ML models, neural networks use not just Gradient Descent but also something called Backpropagatin in order to learn from the data. [**In order to understand how backpropagation works, you need to understand the Chain Rule in Calculus**](https://www.youtube.com/watch?v=acdX4YamDtU). The take away here is to understand how a partial derivative can be decomposed into a product of multiple derivatives. "
   ]
  },
  {
   "cell_type": "markdown",
   "metadata": {},
   "source": [
    "------\n",
    "# Stretch Goals\n",
    "\n",
    "### This section is optional!\n",
    "\n",
    "Only after you've completed the above work and watched the recommended videos, are you then encouraged to experiment with building a few more models and analyze their results. \n",
    "\n",
    "Here are some suggestions to help you get started. \n",
    "\n",
    "- Train the same model using the Sigmoid activation fucntion and the Relu activation function and note the difference in their learning outcomes.  [**Keras docs on activation fucntions**](https://keras.io/api/layers/activations/). We'll cover the Relu activation function in Sprint 2 Module 3.\n",
    "- Train the same model using Normalized and non-Normalized data and note the difference in their learning outcomes. \n",
    "\n",
    "\n",
    "The objective here is to give you an oppertunity to get more practice with the Keras API (i.e. building models) and running a couple of experiments to help set you up for future lessons. In order words, we'll be discussing different activation functions and the affect of Normalized data on model training. "
   ]
  },
  {
   "cell_type": "code",
   "execution_count": null,
   "metadata": {},
   "outputs": [],
   "source": []
  },
  {
   "cell_type": "code",
   "execution_count": null,
   "metadata": {},
   "outputs": [],
   "source": []
  }
 ],
 "metadata": {
  "accelerator": "GPU",
  "colab": {
   "collapsed_sections": [],
   "name": "LS_DS_432_TensorFlow_Assignment",
   "provenance": []
  },
  "kernelspec": {
   "display_name": "unit4sprint2",
   "language": "python",
   "name": "unit4sprint2"
  },
  "language_info": {
   "codemirror_mode": {
    "name": "ipython",
    "version": 3
   },
   "file_extension": ".py",
   "mimetype": "text/x-python",
   "name": "python",
   "nbconvert_exporter": "python",
   "pygments_lexer": "ipython3",
   "version": "3.8.6"
  }
 },
 "nbformat": 4,
 "nbformat_minor": 4
}
