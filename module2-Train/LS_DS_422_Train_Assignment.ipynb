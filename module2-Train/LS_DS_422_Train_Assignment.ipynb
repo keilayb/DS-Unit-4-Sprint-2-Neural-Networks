{
 "cells": [
  {
   "cell_type": "markdown",
   "metadata": {
    "colab_type": "text",
    "id": "NGGrt9EYlCqY"
   },
   "source": [
    "\n",
    "\n",
    "# Train Practice\n",
    "\n",
    "## *Data Science Unit 4 Sprint 2 Assignment 2*\n",
    "\n",
    "Continue to use TensorFlow Keras & a sample of the [Quickdraw dataset](https://github.com/googlecreativelab/quickdraw-dataset) to build a sketch classification model. The dataset has been sampled to only 10 classes and 10000 observations per class. Please build a baseline classification model then run a few experiments with different optimizers and learning rates. \n",
    "\n",
    "*Don't forgot to switch to GPU on Colab!*\n",
    "\n",
    "\n",
    "------\n",
    "\n",
    "# Objective \n",
    "\n",
    "We are going to run a few experiments today\n",
    "\n",
    "- Train a model with and without normalized data and investigate the weight values and learning outcomes\n",
    "- Train a model with varying values for batch_size, learning_rate, and optimizers\n",
    "\n",
    "We are essentially running mannual gridsearches on our models. In module 3, we'll learn a few different ways to automate gridseach for deep learning. "
   ]
  },
  {
   "cell_type": "code",
   "execution_count": 57,
   "metadata": {},
   "outputs": [],
   "source": [
    "import os\n",
    "import datetime\n",
    "import random\n",
    "\n",
    "import numpy as np\n",
    "import pandas as pd\n",
    "import matplotlib.pyplot as plt\n",
    "\n",
    "import tensorflow as tf\n",
    "from tensorflow.keras import Sequential\n",
    "from tensorflow.keras.layers import Dense, ReLU\n",
    "from sklearn.model_selection import train_test_split\n",
    "\n",
    "from keras.optimizers import Adam, SGD, RMSprop, Nadam, Ftrl\n",
    "from keras.activations import relu\n",
    "from tensorflow.keras.callbacks import TensorBoard"
   ]
  },
  {
   "cell_type": "code",
   "execution_count": 2,
   "metadata": {},
   "outputs": [],
   "source": [
    "%matplotlib inline\n",
    "%load_ext tensorboard"
   ]
  },
  {
   "cell_type": "markdown",
   "metadata": {},
   "source": [
    "### Load data\n",
    "\n",
    "- Don't normalize your data just yet!"
   ]
  },
  {
   "cell_type": "code",
   "execution_count": 3,
   "metadata": {
    "colab": {},
    "colab_type": "code",
    "id": "nJsIsrvp7O3e"
   },
   "outputs": [],
   "source": [
    "def load_quickdraw10():\n",
    "    \"\"\"\n",
    "    Loads in the Quickdraw dataset, creates feature matrix and target vector,\n",
    "    which are then split into train and test sets. Shuffling of the data occurs\n",
    "    before the split.\n",
    "    Returns: train and test sets of feature matrix and target vector\n",
    "    \"\"\"\n",
    "    \n",
    "    # url where data can be found on github\n",
    "    URL_ = \"https://github.com/LambdaSchool/DS-Unit-4-Sprint-2-Neural-Networks/blob/main/quickdraw10.npz?raw=true\"\n",
    "    \n",
    "    # path for data file\n",
    "    path_to_zip = tf.keras.utils.get_file('./quickdraw10.npz', origin=URL_, extract=False)\n",
    "\n",
    "    # load in data\n",
    "    data = np.load(path_to_zip)\n",
    "\n",
    "    # create feature matrix and target vector\n",
    "    X = data['arr_0']\n",
    "    Y = data['arr_1']\n",
    "    \n",
    "    # split feature matrix and target vector into train and test sets, with shuffling of data\n",
    "    return train_test_split(X, Y, shuffle=True)"
   ]
  },
  {
   "cell_type": "code",
   "execution_count": 4,
   "metadata": {},
   "outputs": [],
   "source": [
    "X_train, X_test, y_train, y_test = load_quickdraw10()"
   ]
  },
  {
   "cell_type": "code",
   "execution_count": 5,
   "metadata": {},
   "outputs": [
    {
     "data": {
      "text/plain": [
       "10"
      ]
     },
     "execution_count": 5,
     "metadata": {},
     "output_type": "execute_result"
    }
   ],
   "source": [
    "n_labels = len(np.unique(y_train))\n",
    "n_labels"
   ]
  },
  {
   "cell_type": "markdown",
   "metadata": {
    "colab_type": "text",
    "id": "l-6PxI6H5__2"
   },
   "source": [
    "----\n",
    "### Write a Model Function\n",
    "- Write a function called `create_model` which returns a compiled TensorFlow Keras Sequential Model suitable for classifying the QuickDraw-10 dataset. \n",
    "\n",
    "Your function `create_model` should accept the following parameters\n",
    "\n",
    "- Learning Rate `lr`\n",
    "- Optimizer `opt`\n",
    "\n",
    "\n",
    "Build a model with the following architecture and parameter values\n",
    "\n",
    "- Use `1 hidden layer` \n",
    "- Use `sigmoid` activation function in hidden layer\n",
    "- Use `250 nodes` in hidden layer \n",
    "- Use `10 nodes` in output layer\n",
    "- Use `softmax` activation fucntion in output layer\n",
    "- Use `sparse_categorical_crossentropy` loss function\n",
    "- Use `accuracy` as your metric \n",
    "\n",
    "We will use this function to build all the models that we'll need to run our experiments. "
   ]
  },
  {
   "cell_type": "code",
   "execution_count": 53,
   "metadata": {
    "colab": {},
    "colab_type": "code",
    "deletable": false,
    "id": "nEREYT-3wI1f",
    "nbgrader": {
     "cell_type": "code",
     "checksum": "6692fdabca8804cd50380fd4b9a56169",
     "grade": false,
     "grade_id": "cell-355125ca910bfedb",
     "locked": false,
     "schema_version": 3,
     "solution": true,
     "task": false
    }
   },
   "outputs": [],
   "source": [
    "def create_model(lr=.01, opt=\"adam\"):\n",
    "    \"\"\"\n",
    "    \n",
    "    Build and returns a complies Keras model.  \n",
    "    \n",
    "    Parameters\n",
    "    ----------\n",
    "    lr: float\n",
    "        Learning rate parameter used for Stochastic Gradient Descent \n",
    "        \n",
    "    opt: string\n",
    "        Name of optimizer to use\n",
    "        Valid options are \"adam\" and \"sgd\"\n",
    "        \n",
    "    Returns\n",
    "    -------\n",
    "    model: keras object \n",
    "        A complied keras model \n",
    "    \"\"\"\n",
    "\n",
    "    if opt == \"adam\":\n",
    "        opt = Adam(learning_rate=lr)\n",
    "    elif opt == 'sgd':\n",
    "        opt = SGD(learning_rate=lr)\n",
    "    elif opt == 'rmsprop':\n",
    "        opt = RMSprop(learning_rate=lr)\n",
    "    elif opt == 'nadam':\n",
    "        opt = Nadam(learning_rate=lr)\n",
    "    elif opt == 'ftrl':\n",
    "        opt = Ftrl(learning_rate=lr)\n",
    "    else:\n",
    "        print (\"{} is not a valid option. Defaulting to Adam optimizer\".format(opt))\n",
    "        opt = Adam(learning_rate=lr)\n",
    "\n",
    "    # instantiate model\n",
    "    model = Sequential([\n",
    "        # add hidden layer\n",
    "        Dense(250, activation='sigmoid', input_dim=784),\n",
    "        # add output layer\n",
    "        Dense(10, activation='softmax')\n",
    "    ])\n",
    "\n",
    "    model.compile(optimizer=opt,\n",
    "                  loss='sparse_categorical_crossentropy',\n",
    "                  metrics=['accuracy'])\n",
    "    \n",
    "    return model"
   ]
  },
  {
   "cell_type": "code",
   "execution_count": 7,
   "metadata": {},
   "outputs": [],
   "source": [
    "# a check on model architecture\n",
    "model = create_model()\n",
    "n_layers = len(model.get_config()[\"layers\"])\n",
    "output_act_funct =  model.get_config()[\"layers\"][-1][\"config\"][\"activation\"]\n",
    "\n",
    "assert n_layers == 3, \"You should have an input, one hidden, and an output layer\"\n",
    "assert output_act_funct == \"softmax\", \"Output act funct should be softmax\""
   ]
  },
  {
   "cell_type": "markdown",
   "metadata": {},
   "source": [
    "------\n",
    "\n",
    "# Experiment #1: How does normalized input data affect our model's learning outcome?\n",
    "\n",
    "In this experiment we are going to answer the above question by training identifical models on a normalized data set and on a non-normalized data set. \n",
    "\n",
    "Then we will \n",
    "\n",
    "- Analyze the trained weight values of our model \n",
    "- Plot"
   ]
  },
  {
   "cell_type": "code",
   "execution_count": 8,
   "metadata": {},
   "outputs": [],
   "source": [
    "# Clear any logs from previous runs\n",
    "!rm -rf ./logs/"
   ]
  },
  {
   "cell_type": "markdown",
   "metadata": {},
   "source": [
    "### Fit Model on Non-Normalized data"
   ]
  },
  {
   "cell_type": "code",
   "execution_count": 9,
   "metadata": {},
   "outputs": [
    {
     "name": "stdout",
     "output_type": "stream",
     "text": [
      "Epoch 1/10\n",
      "2344/2344 [==============================] - 4s 2ms/step - loss: 1.1345 - accuracy: 0.6411 - val_loss: 0.8426 - val_accuracy: 0.7460\n",
      "Epoch 2/10\n",
      "2344/2344 [==============================] - 3s 1ms/step - loss: 0.8348 - accuracy: 0.7414 - val_loss: 0.7995 - val_accuracy: 0.7512\n",
      "Epoch 3/10\n",
      "2344/2344 [==============================] - 3s 1ms/step - loss: 0.7828 - accuracy: 0.7564 - val_loss: 0.7491 - val_accuracy: 0.7698\n",
      "Epoch 4/10\n",
      "2344/2344 [==============================] - 3s 1ms/step - loss: 0.7420 - accuracy: 0.7696 - val_loss: 0.7476 - val_accuracy: 0.7702\n",
      "Epoch 5/10\n",
      "2344/2344 [==============================] - 3s 1ms/step - loss: 0.7296 - accuracy: 0.7760 - val_loss: 0.7300 - val_accuracy: 0.7768\n",
      "Epoch 6/10\n",
      "2344/2344 [==============================] - 3s 1ms/step - loss: 0.7208 - accuracy: 0.7748 - val_loss: 0.7251 - val_accuracy: 0.7776\n",
      "Epoch 7/10\n",
      "2344/2344 [==============================] - 3s 1ms/step - loss: 0.7108 - accuracy: 0.7815 - val_loss: 0.7319 - val_accuracy: 0.7724\n",
      "Epoch 8/10\n",
      "2344/2344 [==============================] - 3s 1ms/step - loss: 0.7155 - accuracy: 0.7788 - val_loss: 0.7020 - val_accuracy: 0.7824\n",
      "Epoch 9/10\n",
      "2344/2344 [==============================] - 3s 1ms/step - loss: 0.6991 - accuracy: 0.7847 - val_loss: 0.7058 - val_accuracy: 0.7789\n",
      "Epoch 10/10\n",
      "2344/2344 [==============================] - 3s 1ms/step - loss: 0.6900 - accuracy: 0.7858 - val_loss: 0.6891 - val_accuracy: 0.7890\n"
     ]
    },
    {
     "data": {
      "text/plain": [
       "<tensorflow.python.keras.callbacks.History at 0x7fd1eddb1700>"
      ]
     },
     "execution_count": 9,
     "metadata": {},
     "output_type": "execute_result"
    }
   ],
   "source": [
    "# fit model on non-normalized data\n",
    "\n",
    "now = datetime.datetime.now().strftime(\"%Y%m%d-%H%M%S\")\n",
    "logdir = os.path.join(\"logs\", f\"No_Normalization-{now}\")\n",
    "tensorboard = TensorBoard(log_dir=logdir,  histogram_freq=1)\n",
    "\n",
    "model = create_model(lr=.001, opt=\"adam\")\n",
    "\n",
    "model.fit(X_train, y_train, \n",
    "          validation_data=(X_test, y_test),\n",
    "          workers=-1, \n",
    "          epochs=10, \n",
    "          batch_size=32, \n",
    "          verbose=1, \n",
    "          callbacks=[tensorboard])"
   ]
  },
  {
   "cell_type": "markdown",
   "metadata": {},
   "source": [
    "---------\n",
    "\n",
    "### Fit Model on Normalized data"
   ]
  },
  {
   "cell_type": "code",
   "execution_count": 10,
   "metadata": {},
   "outputs": [],
   "source": [
    "max_pixel_value = X_train.max()"
   ]
  },
  {
   "cell_type": "code",
   "execution_count": 11,
   "metadata": {
    "deletable": false,
    "nbgrader": {
     "cell_type": "code",
     "checksum": "ccc6ed9c1e2c04f77eac26d557236dad",
     "grade": false,
     "grade_id": "cell-2792e5f1fbf02c67",
     "locked": false,
     "schema_version": 3,
     "solution": true,
     "task": false
    }
   },
   "outputs": [],
   "source": [
    "# Normalize your training and test sets \n",
    "# save normalized data to X_train_scaled and X_test_scaled\n",
    "X_train_scaled = X_train / max_pixel_value\n",
    "X_test_scaled = X_test / max_pixel_value"
   ]
  },
  {
   "cell_type": "code",
   "execution_count": 12,
   "metadata": {},
   "outputs": [
    {
     "name": "stdout",
     "output_type": "stream",
     "text": [
      "Epoch 1/10\n",
      "2344/2344 [==============================] - 3s 1ms/step - loss: 0.9470 - accuracy: 0.7170 - val_loss: 0.6092 - val_accuracy: 0.8218\n",
      "Epoch 2/10\n",
      "2344/2344 [==============================] - 3s 1ms/step - loss: 0.5769 - accuracy: 0.8292 - val_loss: 0.5123 - val_accuracy: 0.8474\n",
      "Epoch 3/10\n",
      "2344/2344 [==============================] - 3s 1ms/step - loss: 0.4706 - accuracy: 0.8596 - val_loss: 0.4681 - val_accuracy: 0.8597\n",
      "Epoch 4/10\n",
      "2344/2344 [==============================] - 3s 1ms/step - loss: 0.4133 - accuracy: 0.8792 - val_loss: 0.4564 - val_accuracy: 0.8650\n",
      "Epoch 5/10\n",
      "2344/2344 [==============================] - 3s 1ms/step - loss: 0.3645 - accuracy: 0.8925 - val_loss: 0.4318 - val_accuracy: 0.8713\n",
      "Epoch 6/10\n",
      "2344/2344 [==============================] - 3s 1ms/step - loss: 0.3272 - accuracy: 0.9028 - val_loss: 0.4359 - val_accuracy: 0.8713\n",
      "Epoch 7/10\n",
      "2344/2344 [==============================] - 3s 1ms/step - loss: 0.2985 - accuracy: 0.9112 - val_loss: 0.4263 - val_accuracy: 0.8764\n",
      "Epoch 8/10\n",
      "2344/2344 [==============================] - 3s 1ms/step - loss: 0.2717 - accuracy: 0.9209 - val_loss: 0.4359 - val_accuracy: 0.8733\n",
      "Epoch 9/10\n",
      "2344/2344 [==============================] - 3s 1ms/step - loss: 0.2463 - accuracy: 0.9295 - val_loss: 0.4290 - val_accuracy: 0.8750\n",
      "Epoch 10/10\n",
      "2344/2344 [==============================] - 3s 1ms/step - loss: 0.2207 - accuracy: 0.9367 - val_loss: 0.4301 - val_accuracy: 0.8780\n"
     ]
    },
    {
     "data": {
      "text/plain": [
       "<tensorflow.python.keras.callbacks.History at 0x7fd1e2ddb460>"
      ]
     },
     "execution_count": 12,
     "metadata": {},
     "output_type": "execute_result"
    }
   ],
   "source": [
    "# train model on normalized data\n",
    "\n",
    "now = datetime.datetime.now().strftime(\"%Y%m%d-%H%M%S\")\n",
    "logdir = os.path.join(\"logs\", f\"Normalization-{now}\")\n",
    "tensorboard = TensorBoard(log_dir=logdir,  histogram_freq=1)\n",
    "\n",
    "norm_model = create_model(lr=.001, opt=\"adam\")\n",
    "\n",
    "norm_model.fit(X_train_scaled, y_train, \n",
    "          validation_data=(X_test_scaled, y_test),\n",
    "          workers=-1, \n",
    "          epochs=10, \n",
    "          batch_size=32, \n",
    "          verbose=1, \n",
    "          callbacks=[tensorboard])"
   ]
  },
  {
   "cell_type": "markdown",
   "metadata": {},
   "source": [
    "### Each layer is labeled\n",
    "\n",
    "Take note of the label for each layer in the network. It is these labels that will help you identify the corresponding bias and weight distribtuions on tensorboard. \n",
    "\n",
    "Assuming that you've ran `create_model` 3 times: once for the model check, once to create `model`, and once to create `norm_model`:\n",
    "\n",
    "The name of the layers for `model` should be \n",
    "- dense_2\n",
    "- dense_3\n",
    "\n",
    "The name of the layers for `norm_model` should be \n",
    "- dense_4\n",
    "- dense_5\n",
    "\n",
    "\n",
    "If you keep retraining one or both of these models, tensorflow will increment the integer used in the layer names.  But that doesn't really matter, just take notice of the layer names so you can find their corresponding bias and weight distribtuions in tensorboard.\n",
    "\n",
    "**Protip:** If you want to reset the integer incrementation that tensorflow uses, you'll need to restart your notebook's kernal. "
   ]
  },
  {
   "cell_type": "code",
   "execution_count": 13,
   "metadata": {},
   "outputs": [
    {
     "name": "stdout",
     "output_type": "stream",
     "text": [
      "Model: \"sequential_1\"\n",
      "_________________________________________________________________\n",
      "Layer (type)                 Output Shape              Param #   \n",
      "=================================================================\n",
      "dense_2 (Dense)              (None, 250)               196250    \n",
      "_________________________________________________________________\n",
      "dense_3 (Dense)              (None, 10)                2510      \n",
      "=================================================================\n",
      "Total params: 198,760\n",
      "Trainable params: 198,760\n",
      "Non-trainable params: 0\n",
      "_________________________________________________________________\n"
     ]
    }
   ],
   "source": [
    "model.summary()"
   ]
  },
  {
   "cell_type": "code",
   "execution_count": 14,
   "metadata": {},
   "outputs": [
    {
     "name": "stdout",
     "output_type": "stream",
     "text": [
      "Model: \"sequential_2\"\n",
      "_________________________________________________________________\n",
      "Layer (type)                 Output Shape              Param #   \n",
      "=================================================================\n",
      "dense_4 (Dense)              (None, 250)               196250    \n",
      "_________________________________________________________________\n",
      "dense_5 (Dense)              (None, 10)                2510      \n",
      "=================================================================\n",
      "Total params: 198,760\n",
      "Trainable params: 198,760\n",
      "Non-trainable params: 0\n",
      "_________________________________________________________________\n"
     ]
    }
   ],
   "source": [
    "norm_model.summary()"
   ]
  },
  {
   "cell_type": "markdown",
   "metadata": {},
   "source": [
    "### Tensorboard \n",
    "\n",
    "- Run the cell below to launch tensorboard \n",
    "- Click on the `SCALARS` tab to see plots that compare the loss and accuracy between the two models\n",
    "- Cick on the `HISTOGRAMS` tab to see the distribution of the learned weights "
   ]
  },
  {
   "cell_type": "code",
   "execution_count": 15,
   "metadata": {},
   "outputs": [
    {
     "data": {
      "text/html": [
       "\n",
       "      <iframe id=\"tensorboard-frame-30aa85772f8e560c\" width=\"100%\" height=\"800\" frameborder=\"0\">\n",
       "      </iframe>\n",
       "      <script>\n",
       "        (function() {\n",
       "          const frame = document.getElementById(\"tensorboard-frame-30aa85772f8e560c\");\n",
       "          const url = new URL(\"/\", window.location);\n",
       "          const port = 6007;\n",
       "          if (port) {\n",
       "            url.port = port;\n",
       "          }\n",
       "          frame.src = url;\n",
       "        })();\n",
       "      </script>\n",
       "    "
      ],
      "text/plain": [
       "<IPython.core.display.HTML object>"
      ]
     },
     "metadata": {},
     "output_type": "display_data"
    }
   ],
   "source": [
    "%tensorboard --logdir logs"
   ]
  },
  {
   "cell_type": "markdown",
   "metadata": {},
   "source": [
    "### Tensorboard \n",
    "\n",
    "Check out the loss and accuracy plots on the `SCALARS` tab. \n",
    "\n",
    "What you should see is that the accuracy is much higher for the model that was given normalized data; conversely, the loss is much lower for the model that was given normalized data. \n",
    "\n",
    "Recall that what we are doing whenever training a model is adjusting the value of the bias and weights in each layer. For simplicity of analysis, we only trained two layers: a hidden layer and the output layer. \n",
    "\n",
    "Now click on the `HISTOGRAM` tab. \n",
    "\n",
    "You should see both of your model's layer names. \n",
    "\n",
    "### Hidden Layer Distributions\n",
    "\n",
    "Collapse the charts that correspond to the output layer so only the distributions for the weights and bias in the hidden layer are showing. (i.e. Only expand `dense_2` and `dense_4`). \n",
    "\n",
    "Also don't be confused by the word `kernel`, that's just the word that Tensorflow uses instead of weights. So, to be clear, **the kernal distributions are the weight values.** \n",
    "\n",
    "The `bias` distributions are the bias values. \n",
    "\n",
    "You should see 10 distributions stacked next to each other, **one distribution per epoch.**\n",
    "\n",
    "The distribuion in the far back corresponds to the weight values at epoch 1 (tensorflow starts the count at 0, like the index for a list). The distribution at the very front corresponds to the weight values at the 10th epoch (tensorflow indexing show 9 instead of 10).\n",
    "\n",
    "Notice how the shape of the distribution changes accross epochs? That's because their **values are being updated via Gradient Descent.** \n",
    "\n",
    "The distributions that you see are direclty responsible for the validation accuracy of our models. The reason why they look different between the two models is because one model was given normalize data and one wasn't. So you can conclude that the weight distributions in `dense_4` produce a higher validation accuracy than the weight distributions in `dense_2`. \n",
    "\n",
    "Now it's time to analyze those weight values more closely. "
   ]
  },
  {
   "cell_type": "markdown",
   "metadata": {},
   "source": [
    "----------\n",
    "### Analyze Weights in Each Layer"
   ]
  },
  {
   "cell_type": "code",
   "execution_count": 16,
   "metadata": {},
   "outputs": [],
   "source": [
    "# get the final bias and weight matrices for model\n",
    "layer = model.get_layer(name=\"dense_2\")\n",
    "bias, weights = layer.get_weights()"
   ]
  },
  {
   "cell_type": "code",
   "execution_count": 17,
   "metadata": {},
   "outputs": [],
   "source": [
    "# get the final  value bias and weight magrices for norm_moel\n",
    "layer = norm_model.get_layer(name=\"dense_4\")\n",
    "bias_norm, weights_norm = layer.get_weights()"
   ]
  },
  {
   "cell_type": "code",
   "execution_count": 18,
   "metadata": {},
   "outputs": [],
   "source": [
    "# this line of code should not throw an error if the number of weights is the same for the hidden layer of both models\n",
    "# this line of code is known as a Unit Test \n",
    "assert weights.shape[0] == weights_norm.shape[0]"
   ]
  },
  {
   "cell_type": "markdown",
   "metadata": {},
   "source": [
    "### Initial Weight Values\n",
    "\n",
    "By default, Keras dense layers randomly initialize the weight values using [**GlorotUniform**](https://keras.io/api/layers/initializers/). \n",
    "\n",
    "The cell below is sampling values from the GlorotUniform distribution. Let's sample from the GlorotUniform distribution and plot it in order to get a sense of the initial distribution of our weights - before Gradient Descent starts upading their values at training time. "
   ]
  },
  {
   "cell_type": "code",
   "execution_count": 19,
   "metadata": {},
   "outputs": [],
   "source": [
    "# let's take 250 random samples form the GlorotUniform\n",
    "# because they are random samples their exact values might have been a little different for model and norm_model - but we will assume that they were not statistically different \n",
    "# 250 because that's how many weights are in the hidden layer for both of our models\n",
    "initializer = tf.keras.initializers.GlorotUniform(seed=1234)\n",
    "initial_weight_values = initializer(shape=(1, 250))"
   ]
  },
  {
   "cell_type": "code",
   "execution_count": 20,
   "metadata": {},
   "outputs": [
    {
     "data": {
      "image/png": "[encoded data removed]",
      "text/plain": [
       "<Figure size 1440x432 with 1 Axes>"
      ]
     },
     "metadata": {
      "needs_background": "light"
     },
     "output_type": "display_data"
    }
   ],
   "source": [
    "plt.figure(figsize=(20,6))\n",
    "plt.title(\"Learned Weights in Hidden Layers\")\n",
    "plt.xlabel(\"Weight Values\")\n",
    "plt.grid()\n",
    "\n",
    "# by setting density=True, we are transforming our plots into probability distributions \n",
    "plt.hist(weights, bins=20, alpha=0.5, label=\"weights from model\", density=True);\n",
    "plt.hist(weights_norm, bins=20, alpha=0.5, label=\"weights from norm_model\", density=True);\n",
    "plt.hist(initial_weight_values, bins=20, alpha=0.5, label=\"initial weight values\", density=True);\n",
    "plt.legend(fontsize=\"x-large\");"
   ]
  },
  {
   "cell_type": "markdown",
   "metadata": {},
   "source": [
    "### Observations\n",
    "\n",
    "Your plot should have 3 distributions\n",
    "\n",
    "- weights from model trained on non-normalized data\n",
    "- weights from model trained on normalized data\n",
    "- initial weight values sampled from a Glorot Uniform distributions \n",
    "\n",
    "Use the plot to answer the following questions."
   ]
  },
  {
   "cell_type": "markdown",
   "metadata": {},
   "source": [
    "**Comparing the initial weights with weights_from_model, what was the effect of not using normalized data?**"
   ]
  },
  {
   "cell_type": "markdown",
   "metadata": {
    "deletable": false,
    "nbgrader": {
     "cell_type": "markdown",
     "checksum": "500ff9c3902f635e0a9aafa64e2cc95d",
     "grade": true,
     "grade_id": "cell-4d6c92df9d105c46",
     "locked": false,
     "points": 0,
     "schema_version": 3,
     "solution": true,
     "task": false
    }
   },
   "source": [
    "The distribution of the weights does not really change."
   ]
  },
  {
   "cell_type": "markdown",
   "metadata": {},
   "source": [
    "**Comparing the initial weights with weights_from_norm_model, what was the effect of using normalized data?**"
   ]
  },
  {
   "cell_type": "markdown",
   "metadata": {
    "deletable": false,
    "nbgrader": {
     "cell_type": "markdown",
     "checksum": "23d7012c3d7ce759e5389a0dfee1892a",
     "grade": true,
     "grade_id": "cell-614992ba50bf54c4",
     "locked": false,
     "points": 0,
     "schema_version": 3,
     "solution": true,
     "task": false
    }
   },
   "source": [
    "The weight distribution changes quite a bit. The range of weight values is larger. The values are pretty spread out; there is not a distinct peak."
   ]
  },
  {
   "cell_type": "markdown",
   "metadata": {},
   "source": [
    "**Using your understand of how Gradient Descent works, why do you think that the distributions between weights_from_model and weights_from_norm_model look so different?**"
   ]
  },
  {
   "cell_type": "markdown",
   "metadata": {
    "deletable": false,
    "nbgrader": {
     "cell_type": "markdown",
     "checksum": "52e82163ac0a8d8b47bc613199650fe2",
     "grade": true,
     "grade_id": "cell-598a597c991950f8",
     "locked": false,
     "points": 0,
     "schema_version": 3,
     "solution": true,
     "task": false
    }
   },
   "source": [
    "Gradient Descent tries to find a point where there is little to no change--point with smallest slope. Gradient Descent occurs along loss curves, which are a function of the weight an input is being multiplied by in the neural net. The distrubtions of weights from the normalized and not normalized models are so different because of the lack of relativity among inputs to the model. Without normalization, the data is different up to 2 degrees of magnitude, making it hard to compare the data to each other. This leads to Gradient Descent not being able to really take place."
   ]
  },
  {
   "cell_type": "markdown",
   "metadata": {},
   "source": [
    "----\n",
    "\n",
    "# Additional Experiments\n",
    "\n",
    "The previous experiment demonstrated the importance of normalizing our data in order to maximize model accuracy. In the next few experiments, we are going to explore the effect that certain values for Batch Size, Learning Rate, and different Optimizers have on model accuracy. \n",
    "\n",
    "Using our **create_model** model building function, conduct the following experiments. "
   ]
  },
  {
   "cell_type": "markdown",
   "metadata": {
    "colab_type": "text",
    "id": "f0pCkh8C7eGL"
   },
   "source": [
    "### Experiment with Batch Size\n",
    "* Run 5 experiments with various batch sizes of your choice. \n",
    "* Visualize the results\n",
    "* Write up an analysis of the experiments and select the \"best\" performing model among your experiments. Make sure to compare against your model's performance yesterday. "
   ]
  },
  {
   "cell_type": "markdown",
   "metadata": {},
   "source": [
    "#### Batch Size 10"
   ]
  },
  {
   "cell_type": "code",
   "execution_count": 21,
   "metadata": {},
   "outputs": [
    {
     "name": "stdout",
     "output_type": "stream",
     "text": [
      "Epoch 1/10\n",
      "7500/7500 [==============================] - 8s 1ms/step - loss: 0.8591 - accuracy: 0.7412 - val_loss: 0.5473 - val_accuracy: 0.8373\n",
      "Epoch 2/10\n",
      "7500/7500 [==============================] - 7s 915us/step - loss: 0.5020 - accuracy: 0.8505 - val_loss: 0.4652 - val_accuracy: 0.8608\n",
      "Epoch 3/10\n",
      "7500/7500 [==============================] - 7s 922us/step - loss: 0.4106 - accuracy: 0.8768 - val_loss: 0.4522 - val_accuracy: 0.8668\n",
      "Epoch 4/10\n",
      "7500/7500 [==============================] - 7s 927us/step - loss: 0.3508 - accuracy: 0.8956 - val_loss: 0.4386 - val_accuracy: 0.8705\n",
      "Epoch 5/10\n",
      "7500/7500 [==============================] - 7s 908us/step - loss: 0.3011 - accuracy: 0.9109 - val_loss: 0.4354 - val_accuracy: 0.8741\n",
      "Epoch 6/10\n",
      "7500/7500 [==============================] - 7s 920us/step - loss: 0.2695 - accuracy: 0.9196 - val_loss: 0.4369 - val_accuracy: 0.8766\n",
      "Epoch 7/10\n",
      "7500/7500 [==============================] - 7s 917us/step - loss: 0.2357 - accuracy: 0.9308 - val_loss: 0.4541 - val_accuracy: 0.8722\n",
      "Epoch 8/10\n",
      "7500/7500 [==============================] - 7s 919us/step - loss: 0.2025 - accuracy: 0.9408 - val_loss: 0.4688 - val_accuracy: 0.8708\n",
      "Epoch 9/10\n",
      "7500/7500 [==============================] - 7s 919us/step - loss: 0.1802 - accuracy: 0.9474 - val_loss: 0.4695 - val_accuracy: 0.8754\n",
      "Epoch 10/10\n",
      "7500/7500 [==============================] - 8s 1ms/step - loss: 0.1565 - accuracy: 0.9558 - val_loss: 0.4899 - val_accuracy: 0.8712\n"
     ]
    }
   ],
   "source": [
    "norm_model = create_model(lr=.001, opt=\"adam\")\n",
    "\n",
    "batch_10 = norm_model.fit(X_train_scaled, y_train, \n",
    "          validation_data=(X_test_scaled, y_test),\n",
    "          workers=-1, \n",
    "          epochs=10, \n",
    "          batch_size=10, \n",
    "          verbose=1)"
   ]
  },
  {
   "cell_type": "markdown",
   "metadata": {
    "colab": {},
    "colab_type": "code",
    "id": "USXjs7Hk71Hy"
   },
   "source": [
    "#### Batch Size 32 -- default"
   ]
  },
  {
   "cell_type": "code",
   "execution_count": 22,
   "metadata": {},
   "outputs": [
    {
     "name": "stdout",
     "output_type": "stream",
     "text": [
      "Epoch 1/10\n",
      "2344/2344 [==============================] - 3s 1ms/step - loss: 0.9382 - accuracy: 0.7206 - val_loss: 0.6016 - val_accuracy: 0.8240\n",
      "Epoch 2/10\n",
      "2344/2344 [==============================] - 3s 1ms/step - loss: 0.5722 - accuracy: 0.8304 - val_loss: 0.5053 - val_accuracy: 0.8505\n",
      "Epoch 3/10\n",
      "2344/2344 [==============================] - 3s 1ms/step - loss: 0.4715 - accuracy: 0.8608 - val_loss: 0.4716 - val_accuracy: 0.8590\n",
      "Epoch 4/10\n",
      "2344/2344 [==============================] - 3s 1ms/step - loss: 0.4116 - accuracy: 0.8782 - val_loss: 0.4513 - val_accuracy: 0.8647\n",
      "Epoch 5/10\n",
      "2344/2344 [==============================] - 3s 1ms/step - loss: 0.3694 - accuracy: 0.8918 - val_loss: 0.4318 - val_accuracy: 0.8728\n",
      "Epoch 6/10\n",
      "2344/2344 [==============================] - 3s 1ms/step - loss: 0.3301 - accuracy: 0.9030 - val_loss: 0.4426 - val_accuracy: 0.8708\n",
      "Epoch 7/10\n",
      "2344/2344 [==============================] - 3s 1ms/step - loss: 0.3038 - accuracy: 0.9108 - val_loss: 0.4285 - val_accuracy: 0.8744\n",
      "Epoch 8/10\n",
      "2344/2344 [==============================] - 3s 1ms/step - loss: 0.2699 - accuracy: 0.9211 - val_loss: 0.4320 - val_accuracy: 0.8748\n",
      "Epoch 9/10\n",
      "2344/2344 [==============================] - 3s 1ms/step - loss: 0.2470 - accuracy: 0.9298 - val_loss: 0.4319 - val_accuracy: 0.8749\n",
      "Epoch 10/10\n",
      "2344/2344 [==============================] - 3s 1ms/step - loss: 0.2275 - accuracy: 0.9353 - val_loss: 0.4254 - val_accuracy: 0.8789\n"
     ]
    }
   ],
   "source": [
    "norm_model = create_model(lr=.001, opt=\"adam\")\n",
    "\n",
    "batch_32 = norm_model.fit(X_train_scaled, y_train, \n",
    "          validation_data=(X_test_scaled, y_test),\n",
    "          workers=-1, \n",
    "          epochs=10, \n",
    "          batch_size=32, \n",
    "          verbose=1)"
   ]
  },
  {
   "cell_type": "markdown",
   "metadata": {},
   "source": [
    "#### Batch Size 100"
   ]
  },
  {
   "cell_type": "code",
   "execution_count": 23,
   "metadata": {},
   "outputs": [
    {
     "name": "stdout",
     "output_type": "stream",
     "text": [
      "Epoch 1/10\n",
      "750/750 [==============================] - 1s 2ms/step - loss: 1.0907 - accuracy: 0.6782 - val_loss: 0.7016 - val_accuracy: 0.7967\n",
      "Epoch 2/10\n",
      "750/750 [==============================] - 1s 1ms/step - loss: 0.6711 - accuracy: 0.8044 - val_loss: 0.5972 - val_accuracy: 0.8246\n",
      "Epoch 3/10\n",
      "750/750 [==============================] - 1s 1ms/step - loss: 0.5680 - accuracy: 0.8325 - val_loss: 0.5366 - val_accuracy: 0.8420\n",
      "Epoch 4/10\n",
      "750/750 [==============================] - 1s 2ms/step - loss: 0.5023 - accuracy: 0.8526 - val_loss: 0.4997 - val_accuracy: 0.8536\n",
      "Epoch 5/10\n",
      "750/750 [==============================] - 1s 2ms/step - loss: 0.4502 - accuracy: 0.8674 - val_loss: 0.4795 - val_accuracy: 0.8567\n",
      "Epoch 6/10\n",
      "750/750 [==============================] - 1s 2ms/step - loss: 0.4194 - accuracy: 0.8773 - val_loss: 0.4673 - val_accuracy: 0.8612\n",
      "Epoch 7/10\n",
      "750/750 [==============================] - 1s 2ms/step - loss: 0.3900 - accuracy: 0.8860 - val_loss: 0.4492 - val_accuracy: 0.8684\n",
      "Epoch 8/10\n",
      "750/750 [==============================] - 1s 2ms/step - loss: 0.3634 - accuracy: 0.8942 - val_loss: 0.4397 - val_accuracy: 0.8690\n",
      "Epoch 9/10\n",
      "750/750 [==============================] - 1s 2ms/step - loss: 0.3376 - accuracy: 0.9031 - val_loss: 0.4269 - val_accuracy: 0.8736\n",
      "Epoch 10/10\n",
      "750/750 [==============================] - 1s 2ms/step - loss: 0.3216 - accuracy: 0.9057 - val_loss: 0.4239 - val_accuracy: 0.8746\n"
     ]
    }
   ],
   "source": [
    "norm_model = create_model(lr=.001, opt=\"adam\")\n",
    "\n",
    "batch_100 = norm_model.fit(X_train_scaled, y_train, \n",
    "          validation_data=(X_test_scaled, y_test),\n",
    "          workers=-1, \n",
    "          epochs=10, \n",
    "          batch_size=100, \n",
    "          verbose=1)"
   ]
  },
  {
   "cell_type": "markdown",
   "metadata": {},
   "source": [
    "#### Batch Size 500"
   ]
  },
  {
   "cell_type": "code",
   "execution_count": 24,
   "metadata": {},
   "outputs": [
    {
     "name": "stdout",
     "output_type": "stream",
     "text": [
      "Epoch 1/10\n",
      "150/150 [==============================] - 1s 5ms/step - loss: 1.4270 - accuracy: 0.5783 - val_loss: 0.8429 - val_accuracy: 0.7585\n",
      "Epoch 2/10\n",
      "150/150 [==============================] - 1s 4ms/step - loss: 0.8167 - accuracy: 0.7610 - val_loss: 0.7543 - val_accuracy: 0.7814\n",
      "Epoch 3/10\n",
      "150/150 [==============================] - 1s 4ms/step - loss: 0.7370 - accuracy: 0.7861 - val_loss: 0.6991 - val_accuracy: 0.7970\n",
      "Epoch 4/10\n",
      "150/150 [==============================] - 1s 4ms/step - loss: 0.6809 - accuracy: 0.7997 - val_loss: 0.6543 - val_accuracy: 0.8105\n",
      "Epoch 5/10\n",
      "150/150 [==============================] - 1s 5ms/step - loss: 0.6390 - accuracy: 0.8141 - val_loss: 0.6129 - val_accuracy: 0.8230\n",
      "Epoch 6/10\n",
      "150/150 [==============================] - 1s 4ms/step - loss: 0.6044 - accuracy: 0.8219 - val_loss: 0.5840 - val_accuracy: 0.8314\n",
      "Epoch 7/10\n",
      "150/150 [==============================] - 1s 4ms/step - loss: 0.5635 - accuracy: 0.8363 - val_loss: 0.5573 - val_accuracy: 0.8388\n",
      "Epoch 8/10\n",
      "150/150 [==============================] - 1s 4ms/step - loss: 0.5281 - accuracy: 0.8459 - val_loss: 0.5394 - val_accuracy: 0.8434\n",
      "Epoch 9/10\n",
      "150/150 [==============================] - 1s 4ms/step - loss: 0.5074 - accuracy: 0.8516 - val_loss: 0.5242 - val_accuracy: 0.8463\n",
      "Epoch 10/10\n",
      "150/150 [==============================] - 1s 5ms/step - loss: 0.4809 - accuracy: 0.8609 - val_loss: 0.5067 - val_accuracy: 0.8523\n"
     ]
    }
   ],
   "source": [
    "norm_model = create_model(lr=.001, opt=\"adam\")\n",
    "\n",
    "batch_500 = norm_model.fit(X_train_scaled, y_train, \n",
    "          validation_data=(X_test_scaled, y_test),\n",
    "          workers=-1, \n",
    "          epochs=10, \n",
    "          batch_size=500, \n",
    "          verbose=1)"
   ]
  },
  {
   "cell_type": "markdown",
   "metadata": {},
   "source": [
    "#### Batch Size 1000"
   ]
  },
  {
   "cell_type": "code",
   "execution_count": 25,
   "metadata": {},
   "outputs": [
    {
     "name": "stdout",
     "output_type": "stream",
     "text": [
      "Epoch 1/10\n",
      "75/75 [==============================] - 1s 8ms/step - loss: 1.6798 - accuracy: 0.4947 - val_loss: 0.9409 - val_accuracy: 0.7293\n",
      "Epoch 2/10\n",
      "75/75 [==============================] - 0s 6ms/step - loss: 0.9168 - accuracy: 0.7364 - val_loss: 0.8331 - val_accuracy: 0.7606\n",
      "Epoch 3/10\n",
      "75/75 [==============================] - 0s 6ms/step - loss: 0.8289 - accuracy: 0.7600 - val_loss: 0.7809 - val_accuracy: 0.7750\n",
      "Epoch 4/10\n",
      "75/75 [==============================] - 0s 6ms/step - loss: 0.7699 - accuracy: 0.7764 - val_loss: 0.7395 - val_accuracy: 0.7860\n",
      "Epoch 5/10\n",
      "75/75 [==============================] - 0s 6ms/step - loss: 0.7283 - accuracy: 0.7890 - val_loss: 0.7045 - val_accuracy: 0.7989\n",
      "Epoch 6/10\n",
      "75/75 [==============================] - 0s 6ms/step - loss: 0.6969 - accuracy: 0.7978 - val_loss: 0.6737 - val_accuracy: 0.8061\n",
      "Epoch 7/10\n",
      "75/75 [==============================] - 0s 6ms/step - loss: 0.6619 - accuracy: 0.8079 - val_loss: 0.6461 - val_accuracy: 0.8137\n",
      "Epoch 8/10\n",
      "75/75 [==============================] - 0s 6ms/step - loss: 0.6370 - accuracy: 0.8163 - val_loss: 0.6234 - val_accuracy: 0.8190\n",
      "Epoch 9/10\n",
      "75/75 [==============================] - 0s 6ms/step - loss: 0.6061 - accuracy: 0.8234 - val_loss: 0.6050 - val_accuracy: 0.8240\n",
      "Epoch 10/10\n",
      "75/75 [==============================] - 0s 6ms/step - loss: 0.5823 - accuracy: 0.8303 - val_loss: 0.5830 - val_accuracy: 0.8300\n"
     ]
    }
   ],
   "source": [
    "norm_model = create_model(lr=.001, opt=\"adam\")\n",
    "\n",
    "batch_1000 = norm_model.fit(X_train_scaled, y_train, \n",
    "          validation_data=(X_test_scaled, y_test),\n",
    "          workers=-1, \n",
    "          epochs=10, \n",
    "          batch_size=1000, \n",
    "          verbose=1)"
   ]
  },
  {
   "cell_type": "markdown",
   "metadata": {},
   "source": [
    "#### Visualize Results"
   ]
  },
  {
   "cell_type": "code",
   "execution_count": 68,
   "metadata": {},
   "outputs": [
    {
     "data": {
      "text/html": [
       "<div>\n",
       "<style scoped>\n",
       "    .dataframe tbody tr th:only-of-type {\n",
       "        vertical-align: middle;\n",
       "    }\n",
       "\n",
       "    .dataframe tbody tr th {\n",
       "        vertical-align: top;\n",
       "    }\n",
       "\n",
       "    .dataframe thead th {\n",
       "        text-align: right;\n",
       "    }\n",
       "</style>\n",
       "<table border=\"1\" class=\"dataframe\">\n",
       "  <thead>\n",
       "    <tr style=\"text-align: right;\">\n",
       "      <th></th>\n",
       "      <th>loss</th>\n",
       "      <th>accuracy</th>\n",
       "      <th>val_loss</th>\n",
       "      <th>val_accuracy</th>\n",
       "      <th>epoch</th>\n",
       "      <th>Batch Size</th>\n",
       "    </tr>\n",
       "  </thead>\n",
       "  <tbody>\n",
       "    <tr>\n",
       "      <th>0</th>\n",
       "      <td>0.701512</td>\n",
       "      <td>0.790413</td>\n",
       "      <td>0.547269</td>\n",
       "      <td>0.83728</td>\n",
       "      <td>0</td>\n",
       "      <td>10_</td>\n",
       "    </tr>\n",
       "    <tr>\n",
       "      <th>1</th>\n",
       "      <td>0.489188</td>\n",
       "      <td>0.854427</td>\n",
       "      <td>0.465193</td>\n",
       "      <td>0.86076</td>\n",
       "      <td>1</td>\n",
       "      <td>10_</td>\n",
       "    </tr>\n",
       "    <tr>\n",
       "      <th>2</th>\n",
       "      <td>0.408814</td>\n",
       "      <td>0.877693</td>\n",
       "      <td>0.452205</td>\n",
       "      <td>0.86680</td>\n",
       "      <td>2</td>\n",
       "      <td>10_</td>\n",
       "    </tr>\n",
       "    <tr>\n",
       "      <th>3</th>\n",
       "      <td>0.354409</td>\n",
       "      <td>0.893587</td>\n",
       "      <td>0.438556</td>\n",
       "      <td>0.87052</td>\n",
       "      <td>3</td>\n",
       "      <td>10_</td>\n",
       "    </tr>\n",
       "    <tr>\n",
       "      <th>4</th>\n",
       "      <td>0.309618</td>\n",
       "      <td>0.908040</td>\n",
       "      <td>0.435398</td>\n",
       "      <td>0.87412</td>\n",
       "      <td>4</td>\n",
       "      <td>10_</td>\n",
       "    </tr>\n",
       "  </tbody>\n",
       "</table>\n",
       "</div>"
      ],
      "text/plain": [
       "       loss  accuracy  val_loss  val_accuracy  epoch Batch Size\n",
       "0  0.701512  0.790413  0.547269       0.83728      0        10_\n",
       "1  0.489188  0.854427  0.465193       0.86076      1        10_\n",
       "2  0.408814  0.877693  0.452205       0.86680      2        10_\n",
       "3  0.354409  0.893587  0.438556       0.87052      3        10_\n",
       "4  0.309618  0.908040  0.435398       0.87412      4        10_"
      ]
     },
     "execution_count": 68,
     "metadata": {},
     "output_type": "execute_result"
    }
   ],
   "source": [
    "import seaborn as sns\n",
    "import pandas as pd\n",
    "\n",
    "batch_sizes = []\n",
    "\n",
    "for exp, result in zip([batch_10, batch_32, batch_100, batch_500, batch_1000], [\"10_\", \"32_\", \"100_\", \"500_\", \"1000_\"]):\n",
    "\n",
    "    df = pd.DataFrame.from_dict(exp.history)\n",
    "    df['epoch'] = df.index.values\n",
    "    df['Batch Size'] = result\n",
    "\n",
    "    batch_sizes.append(df)\n",
    "\n",
    "df = pd.concat(batch_sizes)\n",
    "df['Batch Size'] = df['Batch Size'].astype('str')\n",
    "df.head()"
   ]
  },
  {
   "cell_type": "code",
   "execution_count": 44,
   "metadata": {
    "scrolled": true
   },
   "outputs": [
    {
     "data": {
      "image/png": "[encoded data removed]",
      "text/plain": [
       "<Figure size 1080x360 with 1 Axes>"
      ]
     },
     "metadata": {
      "needs_background": "light"
     },
     "output_type": "display_data"
    }
   ],
   "source": [
    "plt.figure(figsize=(15, 5))\n",
    "sns.lineplot(x='epoch', y='val_accuracy', hue='Batch Size', data=df)\n",
    "plt.xlabel('Epoch')\n",
    "plt.ylabel('Validation Accuracy');"
   ]
  },
  {
   "cell_type": "code",
   "execution_count": 45,
   "metadata": {},
   "outputs": [
    {
     "data": {
      "image/png": "[encoded data removed]",
      "text/plain": [
       "<Figure size 1080x360 with 1 Axes>"
      ]
     },
     "metadata": {
      "needs_background": "light"
     },
     "output_type": "display_data"
    }
   ],
   "source": [
    "plt.figure(figsize=(15, 5))\n",
    "sns.lineplot(x='epoch', y='val_loss', hue='Batch Size', data=df)\n",
    "plt.xlabel('Epoch')\n",
    "plt.ylabel('Validation Loss');"
   ]
  },
  {
   "cell_type": "markdown",
   "metadata": {},
   "source": [
    "It seems that the best model is the one that used 32 batches. This happens to be the default batch size value.\n",
    "\n",
    "The validation accuracy for 32 batches reaches it max before the other models, and it remains pretty constant.\n",
    "\n",
    "The loss for the model with 32 batches reaches its lowest point, and it remains pretty constant. Its lowest point is the second lowest loss. Only the model with 100 batches has a lower loss. I did not deem this model the best, because its validation accurary has not flattened out--it is still learning.\n",
    "\n",
    "The 32 batch model outperforms the model from yesterday's assignment when it comes to both accuracy and loss."
   ]
  },
  {
   "cell_type": "markdown",
   "metadata": {
    "colab_type": "text",
    "id": "8b-r70o8p2Dm"
   },
   "source": [
    "### Experiment with Learning Rate\n",
    "* Run 5 experiments with various learning rate magnitudes: 1, .1, .01, .001, .0001.\n",
    "* Use the \"best\" batch size from the previous experiment\n",
    "* Visualize the results\n",
    "* Write up an analysis of the experiments and select the \"best\" performing model among your experiments. Make sure to compare against the previous experiments and your model's performance yesterday. "
   ]
  },
  {
   "cell_type": "markdown",
   "metadata": {
    "colab": {},
    "colab_type": "code",
    "id": "_SA144xx8Luf"
   },
   "source": [
    "#### Learning rate = 1"
   ]
  },
  {
   "cell_type": "code",
   "execution_count": 29,
   "metadata": {},
   "outputs": [
    {
     "name": "stdout",
     "output_type": "stream",
     "text": [
      "Epoch 1/10\n",
      "2344/2344 [==============================] - 3s 1ms/step - loss: 22.9542 - accuracy: 0.3474 - val_loss: 13.6721 - val_accuracy: 0.4711\n",
      "Epoch 2/10\n",
      "2344/2344 [==============================] - 3s 1ms/step - loss: 15.3172 - accuracy: 0.4277 - val_loss: 10.9526 - val_accuracy: 0.4978\n",
      "Epoch 3/10\n",
      "2344/2344 [==============================] - 3s 1ms/step - loss: 14.7253 - accuracy: 0.4650 - val_loss: 16.2373 - val_accuracy: 0.5500\n",
      "Epoch 4/10\n",
      "2344/2344 [==============================] - 3s 1ms/step - loss: 15.4782 - accuracy: 0.4777 - val_loss: 22.5362 - val_accuracy: 0.3412\n",
      "Epoch 5/10\n",
      "2344/2344 [==============================] - 3s 1ms/step - loss: 14.9906 - accuracy: 0.4862 - val_loss: 25.0729 - val_accuracy: 0.5076\n",
      "Epoch 6/10\n",
      "2344/2344 [==============================] - 4s 2ms/step - loss: 14.8282 - accuracy: 0.4961 - val_loss: 12.6506 - val_accuracy: 0.5315\n",
      "Epoch 7/10\n",
      "2344/2344 [==============================] - 3s 1ms/step - loss: 14.0386 - accuracy: 0.4940 - val_loss: 9.5122 - val_accuracy: 0.6001\n",
      "Epoch 8/10\n",
      "2344/2344 [==============================] - 3s 1ms/step - loss: 15.9741 - accuracy: 0.5076 - val_loss: 16.1836 - val_accuracy: 0.5621\n",
      "Epoch 9/10\n",
      "2344/2344 [==============================] - 3s 1ms/step - loss: 15.3694 - accuracy: 0.5210 - val_loss: 9.9202 - val_accuracy: 0.5948\n",
      "Epoch 10/10\n",
      "2344/2344 [==============================] - 3s 1ms/step - loss: 14.3006 - accuracy: 0.5181 - val_loss: 12.8565 - val_accuracy: 0.5863\n"
     ]
    }
   ],
   "source": [
    "norm_model = create_model(lr=1, opt=\"adam\")\n",
    "\n",
    "lr_1 = norm_model.fit(X_train_scaled, y_train, \n",
    "          validation_data=(X_test_scaled, y_test),\n",
    "          workers=-1, \n",
    "          epochs=10, \n",
    "          batch_size=32, \n",
    "          verbose=1)"
   ]
  },
  {
   "cell_type": "markdown",
   "metadata": {},
   "source": [
    "#### Learning rate = 0.1"
   ]
  },
  {
   "cell_type": "code",
   "execution_count": 30,
   "metadata": {},
   "outputs": [
    {
     "name": "stdout",
     "output_type": "stream",
     "text": [
      "Epoch 1/10\n",
      "2344/2344 [==============================] - 3s 1ms/step - loss: 1.7067 - accuracy: 0.5609 - val_loss: 1.2568 - val_accuracy: 0.6552\n",
      "Epoch 2/10\n",
      "2344/2344 [==============================] - 3s 1ms/step - loss: 1.4136 - accuracy: 0.6360 - val_loss: 1.6952 - val_accuracy: 0.6253\n",
      "Epoch 3/10\n",
      "2344/2344 [==============================] - 3s 1ms/step - loss: 1.3106 - accuracy: 0.6626 - val_loss: 1.2821 - val_accuracy: 0.6860\n",
      "Epoch 4/10\n",
      "2344/2344 [==============================] - 3s 1ms/step - loss: 1.2603 - accuracy: 0.6726 - val_loss: 1.1063 - val_accuracy: 0.7096\n",
      "Epoch 5/10\n",
      "2344/2344 [==============================] - 3s 1ms/step - loss: 1.2449 - accuracy: 0.6829 - val_loss: 1.2475 - val_accuracy: 0.6974\n",
      "Epoch 6/10\n",
      "2344/2344 [==============================] - 3s 1ms/step - loss: 1.2262 - accuracy: 0.6843 - val_loss: 1.4872 - val_accuracy: 0.5835\n",
      "Epoch 7/10\n",
      "2344/2344 [==============================] - 3s 1ms/step - loss: 1.2014 - accuracy: 0.6934 - val_loss: 1.0947 - val_accuracy: 0.7174\n",
      "Epoch 8/10\n",
      "2344/2344 [==============================] - 3s 1ms/step - loss: 1.1678 - accuracy: 0.7019 - val_loss: 1.1171 - val_accuracy: 0.7308\n",
      "Epoch 9/10\n",
      "2344/2344 [==============================] - 3s 1ms/step - loss: 1.1377 - accuracy: 0.7027 - val_loss: 1.0768 - val_accuracy: 0.7215\n",
      "Epoch 10/10\n",
      "2344/2344 [==============================] - 3s 1ms/step - loss: 1.1201 - accuracy: 0.7083 - val_loss: 1.1169 - val_accuracy: 0.7236\n"
     ]
    }
   ],
   "source": [
    "norm_model = create_model(lr=0.1, opt=\"adam\")\n",
    "\n",
    "lr_0_1 = norm_model.fit(X_train_scaled, y_train, \n",
    "          validation_data=(X_test_scaled, y_test),\n",
    "          workers=-1, \n",
    "          epochs=10, \n",
    "          batch_size=32, \n",
    "          verbose=1)"
   ]
  },
  {
   "cell_type": "markdown",
   "metadata": {},
   "source": [
    "#### Learning rate = 0.01"
   ]
  },
  {
   "cell_type": "code",
   "execution_count": 31,
   "metadata": {},
   "outputs": [
    {
     "name": "stdout",
     "output_type": "stream",
     "text": [
      "Epoch 1/10\n",
      "2344/2344 [==============================] - 4s 2ms/step - loss: 0.7793 - accuracy: 0.7590 - val_loss: 0.5703 - val_accuracy: 0.8307\n",
      "Epoch 2/10\n",
      "2344/2344 [==============================] - 3s 1ms/step - loss: 0.5394 - accuracy: 0.8376 - val_loss: 0.5404 - val_accuracy: 0.8409\n",
      "Epoch 3/10\n",
      "2344/2344 [==============================] - 3s 1ms/step - loss: 0.5031 - accuracy: 0.8466 - val_loss: 0.5452 - val_accuracy: 0.8401\n",
      "Epoch 4/10\n",
      "2344/2344 [==============================] - 3s 1ms/step - loss: 0.4739 - accuracy: 0.8563 - val_loss: 0.5259 - val_accuracy: 0.8469\n",
      "Epoch 5/10\n",
      "2344/2344 [==============================] - 3s 1ms/step - loss: 0.4489 - accuracy: 0.8623 - val_loss: 0.5194 - val_accuracy: 0.8492\n",
      "Epoch 6/10\n",
      "2344/2344 [==============================] - 3s 1ms/step - loss: 0.4320 - accuracy: 0.8666 - val_loss: 0.5693 - val_accuracy: 0.8417\n",
      "Epoch 7/10\n",
      "2344/2344 [==============================] - 3s 1ms/step - loss: 0.4085 - accuracy: 0.8760 - val_loss: 0.5621 - val_accuracy: 0.8420\n",
      "Epoch 8/10\n",
      "2344/2344 [==============================] - 3s 1ms/step - loss: 0.4097 - accuracy: 0.8752 - val_loss: 0.5508 - val_accuracy: 0.8468\n",
      "Epoch 9/10\n",
      "2344/2344 [==============================] - 3s 1ms/step - loss: 0.3921 - accuracy: 0.8774 - val_loss: 0.5520 - val_accuracy: 0.8493\n",
      "Epoch 10/10\n",
      "2344/2344 [==============================] - 3s 1ms/step - loss: 0.3666 - accuracy: 0.8864 - val_loss: 0.5675 - val_accuracy: 0.8460\n"
     ]
    }
   ],
   "source": [
    "norm_model = create_model(lr=0.01, opt=\"adam\")\n",
    "\n",
    "lr_0_01 = norm_model.fit(X_train_scaled, y_train, \n",
    "          validation_data=(X_test_scaled, y_test),\n",
    "          workers=-1, \n",
    "          epochs=10, \n",
    "          batch_size=32, \n",
    "          verbose=1)"
   ]
  },
  {
   "cell_type": "markdown",
   "metadata": {},
   "source": [
    "#### Learning rate = 0.001"
   ]
  },
  {
   "cell_type": "code",
   "execution_count": 32,
   "metadata": {},
   "outputs": [
    {
     "name": "stdout",
     "output_type": "stream",
     "text": [
      "Epoch 1/10\n",
      "2344/2344 [==============================] - 3s 1ms/step - loss: 0.9589 - accuracy: 0.7156 - val_loss: 0.6267 - val_accuracy: 0.8144\n",
      "Epoch 2/10\n",
      "2344/2344 [==============================] - 3s 1ms/step - loss: 0.5793 - accuracy: 0.8277 - val_loss: 0.5151 - val_accuracy: 0.8463\n",
      "Epoch 3/10\n",
      "2344/2344 [==============================] - 3s 1ms/step - loss: 0.4705 - accuracy: 0.8603 - val_loss: 0.4678 - val_accuracy: 0.8612\n",
      "Epoch 4/10\n",
      "2344/2344 [==============================] - 3s 1ms/step - loss: 0.4167 - accuracy: 0.8771 - val_loss: 0.4445 - val_accuracy: 0.8682\n",
      "Epoch 5/10\n",
      "2344/2344 [==============================] - 3s 1ms/step - loss: 0.3709 - accuracy: 0.8913 - val_loss: 0.4400 - val_accuracy: 0.8702\n",
      "Epoch 6/10\n",
      "2344/2344 [==============================] - 3s 1ms/step - loss: 0.3299 - accuracy: 0.9038 - val_loss: 0.4182 - val_accuracy: 0.8763\n",
      "Epoch 7/10\n",
      "2344/2344 [==============================] - 3s 1ms/step - loss: 0.3035 - accuracy: 0.9120 - val_loss: 0.4321 - val_accuracy: 0.8740\n",
      "Epoch 8/10\n",
      "2344/2344 [==============================] - 3s 1ms/step - loss: 0.2765 - accuracy: 0.9199 - val_loss: 0.4171 - val_accuracy: 0.8780\n",
      "Epoch 9/10\n",
      "2344/2344 [==============================] - 3s 1ms/step - loss: 0.2508 - accuracy: 0.9270 - val_loss: 0.4251 - val_accuracy: 0.8764\n",
      "Epoch 10/10\n",
      "2344/2344 [==============================] - 3s 1ms/step - loss: 0.2279 - accuracy: 0.9354 - val_loss: 0.4226 - val_accuracy: 0.8798\n"
     ]
    }
   ],
   "source": [
    "norm_model = create_model(lr=0.001, opt=\"adam\")\n",
    "\n",
    "lr_0_001 = norm_model.fit(X_train_scaled, y_train, \n",
    "          validation_data=(X_test_scaled, y_test),\n",
    "          workers=-1, \n",
    "          epochs=10, \n",
    "          batch_size=32, \n",
    "          verbose=1)"
   ]
  },
  {
   "cell_type": "markdown",
   "metadata": {},
   "source": [
    "#### Learning rate = 0.0001"
   ]
  },
  {
   "cell_type": "code",
   "execution_count": 33,
   "metadata": {},
   "outputs": [
    {
     "name": "stdout",
     "output_type": "stream",
     "text": [
      "Epoch 1/10\n",
      "2344/2344 [==============================] - 3s 1ms/step - loss: 1.4577 - accuracy: 0.5985 - val_loss: 0.8916 - val_accuracy: 0.7444\n",
      "Epoch 2/10\n",
      "2344/2344 [==============================] - 3s 1ms/step - loss: 0.8712 - accuracy: 0.7462 - val_loss: 0.8038 - val_accuracy: 0.7684\n",
      "Epoch 3/10\n",
      "2344/2344 [==============================] - 3s 1ms/step - loss: 0.7950 - accuracy: 0.7687 - val_loss: 0.7524 - val_accuracy: 0.7831\n",
      "Epoch 4/10\n",
      "2344/2344 [==============================] - 3s 1ms/step - loss: 0.7528 - accuracy: 0.7827 - val_loss: 0.7160 - val_accuracy: 0.7935\n",
      "Epoch 5/10\n",
      "2344/2344 [==============================] - 3s 1ms/step - loss: 0.7055 - accuracy: 0.7957 - val_loss: 0.6852 - val_accuracy: 0.8024\n",
      "Epoch 6/10\n",
      "2344/2344 [==============================] - 3s 1ms/step - loss: 0.6708 - accuracy: 0.8056 - val_loss: 0.6561 - val_accuracy: 0.8120\n",
      "Epoch 7/10\n",
      "2344/2344 [==============================] - 3s 1ms/step - loss: 0.6447 - accuracy: 0.8131 - val_loss: 0.6332 - val_accuracy: 0.8165\n",
      "Epoch 8/10\n",
      "2344/2344 [==============================] - 3s 1ms/step - loss: 0.6279 - accuracy: 0.8177 - val_loss: 0.6133 - val_accuracy: 0.8217\n",
      "Epoch 9/10\n",
      "2344/2344 [==============================] - 3s 1ms/step - loss: 0.5982 - accuracy: 0.8245 - val_loss: 0.5939 - val_accuracy: 0.8268\n",
      "Epoch 10/10\n",
      "2344/2344 [==============================] - 3s 1ms/step - loss: 0.5781 - accuracy: 0.8319 - val_loss: 0.5792 - val_accuracy: 0.8314\n"
     ]
    }
   ],
   "source": [
    "norm_model = create_model(lr=0.0001, opt=\"adam\")\n",
    "\n",
    "lr_0_0001 = norm_model.fit(X_train_scaled, y_train, \n",
    "          validation_data=(X_test_scaled, y_test),\n",
    "          workers=-1, \n",
    "          epochs=10, \n",
    "          batch_size=32, \n",
    "          verbose=1)"
   ]
  },
  {
   "cell_type": "markdown",
   "metadata": {},
   "source": [
    "#### Visualize Results"
   ]
  },
  {
   "cell_type": "code",
   "execution_count": 69,
   "metadata": {},
   "outputs": [
    {
     "data": {
      "text/html": [
       "<div>\n",
       "<style scoped>\n",
       "    .dataframe tbody tr th:only-of-type {\n",
       "        vertical-align: middle;\n",
       "    }\n",
       "\n",
       "    .dataframe tbody tr th {\n",
       "        vertical-align: top;\n",
       "    }\n",
       "\n",
       "    .dataframe thead th {\n",
       "        text-align: right;\n",
       "    }\n",
       "</style>\n",
       "<table border=\"1\" class=\"dataframe\">\n",
       "  <thead>\n",
       "    <tr style=\"text-align: right;\">\n",
       "      <th></th>\n",
       "      <th>loss</th>\n",
       "      <th>accuracy</th>\n",
       "      <th>val_loss</th>\n",
       "      <th>val_accuracy</th>\n",
       "      <th>epoch</th>\n",
       "      <th>Learning Rate</th>\n",
       "    </tr>\n",
       "  </thead>\n",
       "  <tbody>\n",
       "    <tr>\n",
       "      <th>0</th>\n",
       "      <td>17.457470</td>\n",
       "      <td>0.381747</td>\n",
       "      <td>13.672055</td>\n",
       "      <td>0.47112</td>\n",
       "      <td>0</td>\n",
       "      <td>1_0</td>\n",
       "    </tr>\n",
       "    <tr>\n",
       "      <th>1</th>\n",
       "      <td>15.543145</td>\n",
       "      <td>0.435520</td>\n",
       "      <td>10.952574</td>\n",
       "      <td>0.49776</td>\n",
       "      <td>1</td>\n",
       "      <td>1_0</td>\n",
       "    </tr>\n",
       "    <tr>\n",
       "      <th>2</th>\n",
       "      <td>15.314016</td>\n",
       "      <td>0.464333</td>\n",
       "      <td>16.237305</td>\n",
       "      <td>0.55000</td>\n",
       "      <td>2</td>\n",
       "      <td>1_0</td>\n",
       "    </tr>\n",
       "    <tr>\n",
       "      <th>3</th>\n",
       "      <td>15.627847</td>\n",
       "      <td>0.474453</td>\n",
       "      <td>22.536198</td>\n",
       "      <td>0.34124</td>\n",
       "      <td>3</td>\n",
       "      <td>1_0</td>\n",
       "    </tr>\n",
       "    <tr>\n",
       "      <th>4</th>\n",
       "      <td>14.659723</td>\n",
       "      <td>0.493413</td>\n",
       "      <td>25.072945</td>\n",
       "      <td>0.50756</td>\n",
       "      <td>4</td>\n",
       "      <td>1_0</td>\n",
       "    </tr>\n",
       "  </tbody>\n",
       "</table>\n",
       "</div>"
      ],
      "text/plain": [
       "        loss  accuracy   val_loss  val_accuracy  epoch Learning Rate\n",
       "0  17.457470  0.381747  13.672055       0.47112      0           1_0\n",
       "1  15.543145  0.435520  10.952574       0.49776      1           1_0\n",
       "2  15.314016  0.464333  16.237305       0.55000      2           1_0\n",
       "3  15.627847  0.474453  22.536198       0.34124      3           1_0\n",
       "4  14.659723  0.493413  25.072945       0.50756      4           1_0"
      ]
     },
     "execution_count": 69,
     "metadata": {},
     "output_type": "execute_result"
    }
   ],
   "source": [
    "learning_rates = []\n",
    "\n",
    "for exp, result in zip([lr_1, lr_0_1, lr_0_01, lr_0_001, lr_0_0001], [\"1_0\", \"0_1\", \"0_01\", \"0_001\", \"0_0001\"]):\n",
    "\n",
    "    df = pd.DataFrame.from_dict(exp.history)\n",
    "    df['epoch'] = df.index.values\n",
    "    df['Learning Rate'] = result\n",
    "\n",
    "    learning_rates.append(df)\n",
    "\n",
    "df = pd.concat(learning_rates)\n",
    "df['Learning Rate'] = df['Learning Rate'].astype('str')\n",
    "df.head()"
   ]
  },
  {
   "cell_type": "code",
   "execution_count": 47,
   "metadata": {},
   "outputs": [
    {
     "data": {
      "image/png": "[encoded data removed]",
      "text/plain": [
       "<Figure size 1080x360 with 1 Axes>"
      ]
     },
     "metadata": {
      "needs_background": "light"
     },
     "output_type": "display_data"
    }
   ],
   "source": [
    "plt.figure(figsize=(15, 5))\n",
    "sns.lineplot(x='epoch', y='val_accuracy', hue='Learning Rate', data=df)\n",
    "plt.xlabel('Epoch')\n",
    "plt.ylabel('Validation Accuracy');"
   ]
  },
  {
   "cell_type": "code",
   "execution_count": 48,
   "metadata": {},
   "outputs": [
    {
     "data": {
      "image/png": "[encoded data removed]",
      "text/plain": [
       "<Figure size 1080x360 with 1 Axes>"
      ]
     },
     "metadata": {
      "needs_background": "light"
     },
     "output_type": "display_data"
    }
   ],
   "source": [
    "plt.figure(figsize=(15, 5))\n",
    "sns.lineplot(x='epoch', y='val_loss', hue='Learning Rate', data=df)\n",
    "plt.xlabel('Epoch')\n",
    "plt.ylabel('Validation Loss');"
   ]
  },
  {
   "cell_type": "code",
   "execution_count": 70,
   "metadata": {},
   "outputs": [
    {
     "data": {
      "text/plain": [
       "0.879800021648407"
      ]
     },
     "execution_count": 70,
     "metadata": {},
     "output_type": "execute_result"
    }
   ],
   "source": [
    "# highest accuracy overall\n",
    "df['val_accuracy'].max()"
   ]
  },
  {
   "cell_type": "code",
   "execution_count": 71,
   "metadata": {},
   "outputs": [
    {
     "data": {
      "text/plain": [
       "0.879800021648407"
      ]
     },
     "execution_count": 71,
     "metadata": {},
     "output_type": "execute_result"
    }
   ],
   "source": [
    "# highest accuracy for best model\n",
    "df[df['Learning Rate']=='0_001']['val_accuracy'].max()"
   ]
  },
  {
   "cell_type": "code",
   "execution_count": 52,
   "metadata": {},
   "outputs": [
    {
     "data": {
      "text/plain": [
       "0.4171420633792877"
      ]
     },
     "execution_count": 52,
     "metadata": {},
     "output_type": "execute_result"
    }
   ],
   "source": [
    "# lowest val_loss overall\n",
    "df['val_loss'].min()"
   ]
  },
  {
   "cell_type": "code",
   "execution_count": 51,
   "metadata": {},
   "outputs": [
    {
     "data": {
      "text/plain": [
       "0.4171420633792877"
      ]
     },
     "execution_count": 51,
     "metadata": {},
     "output_type": "execute_result"
    }
   ],
   "source": [
    "# lowest val_loss for best model\n",
    "df[df['Learning Rate']=='0_001']['val_loss'].min()"
   ]
  },
  {
   "cell_type": "markdown",
   "metadata": {},
   "source": [
    "The best model based on learning rate is the model with a learning rate of 0.001. This model has the highest validation accuracy, which is pretty constant. This model also has the lowest validation loss. \n",
    "\n",
    "The model with a learning rate of 0.001 has a better validation accuracy and validation loss than the model from yesterday's assignment.\n",
    "\n",
    "The validation accuracy of this model is better than the one for the best model from the batch size experiments. The validation loss is roughly the same."
   ]
  },
  {
   "cell_type": "markdown",
   "metadata": {
    "colab_type": "text",
    "id": "gxMtSRhV9Q7I"
   },
   "source": [
    "### Experiment with different Optimizers\n",
    "* Run 5 experiments with various optimizers available in TensorFlow. See list [here](https://www.tensorflow.org/api_docs/python/tf/keras/optimizers)\n",
    "* Visualize the results\n",
    "* Write up an analysis of the experiments and select the \"best\" performing model among your experiments. Make sure to compare against the previous experiments and your model's performance yesterday.\n",
    "* Repeat the experiment combining Learning Rate and different optimizers. Does the best performing model change? "
   ]
  },
  {
   "cell_type": "markdown",
   "metadata": {
    "colab": {},
    "colab_type": "code",
    "id": "ujLuzdNA91ip"
   },
   "source": [
    "#### Optimizer: Adam (default)"
   ]
  },
  {
   "cell_type": "code",
   "execution_count": 54,
   "metadata": {},
   "outputs": [
    {
     "name": "stdout",
     "output_type": "stream",
     "text": [
      "Epoch 1/10\n",
      "2344/2344 [==============================] - 3s 1ms/step - loss: 0.9644 - accuracy: 0.7094 - val_loss: 0.6168 - val_accuracy: 0.8215\n",
      "Epoch 2/10\n",
      "2344/2344 [==============================] - 3s 1ms/step - loss: 0.5797 - accuracy: 0.8265 - val_loss: 0.5167 - val_accuracy: 0.8472\n",
      "Epoch 3/10\n",
      "2344/2344 [==============================] - 3s 1ms/step - loss: 0.4707 - accuracy: 0.8611 - val_loss: 0.4736 - val_accuracy: 0.8598\n",
      "Epoch 4/10\n",
      "2344/2344 [==============================] - 3s 1ms/step - loss: 0.4147 - accuracy: 0.8776 - val_loss: 0.4457 - val_accuracy: 0.8685\n",
      "Epoch 5/10\n",
      "2344/2344 [==============================] - 3s 1ms/step - loss: 0.3714 - accuracy: 0.8902 - val_loss: 0.4400 - val_accuracy: 0.8692\n",
      "Epoch 6/10\n",
      "2344/2344 [==============================] - 3s 1ms/step - loss: 0.3302 - accuracy: 0.9021 - val_loss: 0.4244 - val_accuracy: 0.8751\n",
      "Epoch 7/10\n",
      "2344/2344 [==============================] - 3s 1ms/step - loss: 0.2985 - accuracy: 0.9122 - val_loss: 0.4289 - val_accuracy: 0.8735\n",
      "Epoch 8/10\n",
      "2344/2344 [==============================] - 3s 1ms/step - loss: 0.2693 - accuracy: 0.9213 - val_loss: 0.4286 - val_accuracy: 0.8752\n",
      "Epoch 9/10\n",
      "2344/2344 [==============================] - 3s 1ms/step - loss: 0.2499 - accuracy: 0.9283 - val_loss: 0.4320 - val_accuracy: 0.8758\n",
      "Epoch 10/10\n",
      "2344/2344 [==============================] - 3s 1ms/step - loss: 0.2254 - accuracy: 0.9360 - val_loss: 0.4282 - val_accuracy: 0.8793\n"
     ]
    }
   ],
   "source": [
    "norm_model = create_model(lr=.001, opt=\"adam\")\n",
    "\n",
    "opt_adam = norm_model.fit(X_train_scaled, y_train, \n",
    "          validation_data=(X_test_scaled, y_test),\n",
    "          workers=-1, \n",
    "          epochs=10, \n",
    "          batch_size=32, \n",
    "          verbose=1)"
   ]
  },
  {
   "cell_type": "markdown",
   "metadata": {},
   "source": [
    "#### Optimizer: SGD"
   ]
  },
  {
   "cell_type": "code",
   "execution_count": 55,
   "metadata": {},
   "outputs": [
    {
     "name": "stdout",
     "output_type": "stream",
     "text": [
      "Epoch 1/10\n",
      "2344/2344 [==============================] - 3s 1ms/step - loss: 2.2834 - accuracy: 0.2153 - val_loss: 2.0384 - val_accuracy: 0.5231\n",
      "Epoch 2/10\n",
      "2344/2344 [==============================] - 3s 1ms/step - loss: 1.9811 - accuracy: 0.5384 - val_loss: 1.8165 - val_accuracy: 0.5964\n",
      "Epoch 3/10\n",
      "2344/2344 [==============================] - 3s 1ms/step - loss: 1.7710 - accuracy: 0.6002 - val_loss: 1.6349 - val_accuracy: 0.6335\n",
      "Epoch 4/10\n",
      "2344/2344 [==============================] - 3s 1ms/step - loss: 1.6016 - accuracy: 0.6315 - val_loss: 1.4937 - val_accuracy: 0.6445\n",
      "Epoch 5/10\n",
      "2344/2344 [==============================] - 3s 1ms/step - loss: 1.4693 - accuracy: 0.6508 - val_loss: 1.3866 - val_accuracy: 0.6594\n",
      "Epoch 6/10\n",
      "2344/2344 [==============================] - 3s 1ms/step - loss: 1.3718 - accuracy: 0.6599 - val_loss: 1.3051 - val_accuracy: 0.6745\n",
      "Epoch 7/10\n",
      "2344/2344 [==============================] - 2s 1ms/step - loss: 1.2964 - accuracy: 0.6688 - val_loss: 1.2416 - val_accuracy: 0.6811\n",
      "Epoch 8/10\n",
      "2344/2344 [==============================] - 2s 1ms/step - loss: 1.2321 - accuracy: 0.6806 - val_loss: 1.1911 - val_accuracy: 0.6816\n",
      "Epoch 9/10\n",
      "2344/2344 [==============================] - 3s 1ms/step - loss: 1.1897 - accuracy: 0.6857 - val_loss: 1.1500 - val_accuracy: 0.6901\n",
      "Epoch 10/10\n",
      "2344/2344 [==============================] - 3s 1ms/step - loss: 1.1483 - accuracy: 0.6917 - val_loss: 1.1164 - val_accuracy: 0.6975\n"
     ]
    }
   ],
   "source": [
    "norm_model = create_model(lr=.001, opt=\"sgd\")\n",
    "\n",
    "opt_sgb = norm_model.fit(X_train_scaled, y_train, \n",
    "          validation_data=(X_test_scaled, y_test),\n",
    "          workers=-1, \n",
    "          epochs=10, \n",
    "          batch_size=32, \n",
    "          verbose=1)"
   ]
  },
  {
   "cell_type": "markdown",
   "metadata": {},
   "source": [
    "#### Optimizer: RMSprop"
   ]
  },
  {
   "cell_type": "code",
   "execution_count": 58,
   "metadata": {},
   "outputs": [
    {
     "name": "stdout",
     "output_type": "stream",
     "text": [
      "Epoch 1/10\n",
      "2344/2344 [==============================] - 4s 2ms/step - loss: 0.9384 - accuracy: 0.7181 - val_loss: 0.6072 - val_accuracy: 0.8237\n",
      "Epoch 2/10\n",
      "2344/2344 [==============================] - 3s 1ms/step - loss: 0.5693 - accuracy: 0.8320 - val_loss: 0.5447 - val_accuracy: 0.8348\n",
      "Epoch 3/10\n",
      "2344/2344 [==============================] - 3s 1ms/step - loss: 0.4853 - accuracy: 0.8561 - val_loss: 0.4832 - val_accuracy: 0.8576\n",
      "Epoch 4/10\n",
      "2344/2344 [==============================] - 4s 2ms/step - loss: 0.4322 - accuracy: 0.8720 - val_loss: 0.4754 - val_accuracy: 0.8614\n",
      "Epoch 5/10\n",
      "2344/2344 [==============================] - 4s 2ms/step - loss: 0.3979 - accuracy: 0.8831 - val_loss: 0.4553 - val_accuracy: 0.8682\n",
      "Epoch 6/10\n",
      "2344/2344 [==============================] - 4s 2ms/step - loss: 0.3608 - accuracy: 0.8942 - val_loss: 0.4571 - val_accuracy: 0.8668\n",
      "Epoch 7/10\n",
      "2344/2344 [==============================] - 3s 1ms/step - loss: 0.3348 - accuracy: 0.9034 - val_loss: 0.4424 - val_accuracy: 0.8746\n",
      "Epoch 8/10\n",
      "2344/2344 [==============================] - 3s 1ms/step - loss: 0.3105 - accuracy: 0.9099 - val_loss: 0.4548 - val_accuracy: 0.8739\n",
      "Epoch 9/10\n",
      "2344/2344 [==============================] - 3s 1ms/step - loss: 0.2855 - accuracy: 0.9173 - val_loss: 0.4450 - val_accuracy: 0.8757\n",
      "Epoch 10/10\n",
      "2344/2344 [==============================] - 3s 1ms/step - loss: 0.2668 - accuracy: 0.9235 - val_loss: 0.4562 - val_accuracy: 0.8753\n"
     ]
    }
   ],
   "source": [
    "norm_model = create_model(lr=.001, opt=\"rmsprop\")\n",
    "\n",
    "opt_rmsprop = norm_model.fit(X_train_scaled, y_train, \n",
    "          validation_data=(X_test_scaled, y_test),\n",
    "          workers=-1, \n",
    "          epochs=10, \n",
    "          batch_size=32, \n",
    "          verbose=1)"
   ]
  },
  {
   "cell_type": "markdown",
   "metadata": {},
   "source": [
    "#### Optimizer: Nadam"
   ]
  },
  {
   "cell_type": "code",
   "execution_count": 59,
   "metadata": {},
   "outputs": [
    {
     "name": "stdout",
     "output_type": "stream",
     "text": [
      "Epoch 1/10\n",
      "2344/2344 [==============================] - 4s 2ms/step - loss: 0.9553 - accuracy: 0.7185 - val_loss: 0.6063 - val_accuracy: 0.8219\n",
      "Epoch 2/10\n",
      "2344/2344 [==============================] - 4s 2ms/step - loss: 0.5789 - accuracy: 0.8290 - val_loss: 0.5113 - val_accuracy: 0.8473\n",
      "Epoch 3/10\n",
      "2344/2344 [==============================] - 4s 2ms/step - loss: 0.4748 - accuracy: 0.8581 - val_loss: 0.4661 - val_accuracy: 0.8628\n",
      "Epoch 4/10\n",
      "2344/2344 [==============================] - 4s 2ms/step - loss: 0.4133 - accuracy: 0.8777 - val_loss: 0.4414 - val_accuracy: 0.8702\n",
      "Epoch 5/10\n",
      "2344/2344 [==============================] - 4s 2ms/step - loss: 0.3620 - accuracy: 0.8923 - val_loss: 0.4278 - val_accuracy: 0.8742\n",
      "Epoch 6/10\n",
      "2344/2344 [==============================] - 4s 2ms/step - loss: 0.3283 - accuracy: 0.9026 - val_loss: 0.4248 - val_accuracy: 0.8763\n",
      "Epoch 7/10\n",
      "2344/2344 [==============================] - 4s 2ms/step - loss: 0.2975 - accuracy: 0.9138 - val_loss: 0.4222 - val_accuracy: 0.8783\n",
      "Epoch 8/10\n",
      "2344/2344 [==============================] - 5s 2ms/step - loss: 0.2723 - accuracy: 0.9229 - val_loss: 0.4190 - val_accuracy: 0.8794\n",
      "Epoch 9/10\n",
      "2344/2344 [==============================] - 4s 2ms/step - loss: 0.2450 - accuracy: 0.9302 - val_loss: 0.4223 - val_accuracy: 0.8795\n",
      "Epoch 10/10\n",
      "2344/2344 [==============================] - 5s 2ms/step - loss: 0.2199 - accuracy: 0.9373 - val_loss: 0.4236 - val_accuracy: 0.8812\n"
     ]
    }
   ],
   "source": [
    "norm_model = create_model(lr=.001, opt=\"nadam\")\n",
    "\n",
    "opt_nadam = norm_model.fit(X_train_scaled, y_train, \n",
    "          validation_data=(X_test_scaled, y_test),\n",
    "          workers=-1, \n",
    "          epochs=10, \n",
    "          batch_size=32, \n",
    "          verbose=1)"
   ]
  },
  {
   "cell_type": "markdown",
   "metadata": {},
   "source": [
    "#### Optimizer: Ftrl"
   ]
  },
  {
   "cell_type": "code",
   "execution_count": 60,
   "metadata": {},
   "outputs": [
    {
     "name": "stdout",
     "output_type": "stream",
     "text": [
      "Epoch 1/10\n",
      "2344/2344 [==============================] - 4s 1ms/step - loss: 2.3046 - accuracy: 0.0993 - val_loss: 2.3028 - val_accuracy: 0.0988\n",
      "Epoch 2/10\n",
      "2344/2344 [==============================] - 3s 1ms/step - loss: 2.3026 - accuracy: 0.0994 - val_loss: 2.3025 - val_accuracy: 0.1007\n",
      "Epoch 3/10\n",
      "2344/2344 [==============================] - 3s 1ms/step - loss: 2.3025 - accuracy: 0.1028 - val_loss: 2.3022 - val_accuracy: 0.0968\n",
      "Epoch 4/10\n",
      "2344/2344 [==============================] - 3s 1ms/step - loss: 2.3019 - accuracy: 0.1077 - val_loss: 2.3013 - val_accuracy: 0.1243\n",
      "Epoch 5/10\n",
      "2344/2344 [==============================] - 3s 1ms/step - loss: 2.3009 - accuracy: 0.1179 - val_loss: 2.2996 - val_accuracy: 0.1592\n",
      "Epoch 6/10\n",
      "2344/2344 [==============================] - 3s 1ms/step - loss: 2.2990 - accuracy: 0.1458 - val_loss: 2.2967 - val_accuracy: 0.1666\n",
      "Epoch 7/10\n",
      "2344/2344 [==============================] - 3s 1ms/step - loss: 2.2957 - accuracy: 0.1889 - val_loss: 2.2915 - val_accuracy: 0.1750\n",
      "Epoch 8/10\n",
      "2344/2344 [==============================] - 3s 1ms/step - loss: 2.2896 - accuracy: 0.2141 - val_loss: 2.2823 - val_accuracy: 0.2946\n",
      "Epoch 9/10\n",
      "2344/2344 [==============================] - 3s 1ms/step - loss: 2.2789 - accuracy: 0.2691 - val_loss: 2.2669 - val_accuracy: 0.2720\n",
      "Epoch 10/10\n",
      "2344/2344 [==============================] - 3s 1ms/step - loss: 2.2615 - accuracy: 0.2928 - val_loss: 2.2423 - val_accuracy: 0.2799\n"
     ]
    }
   ],
   "source": [
    "norm_model = create_model(lr=.001, opt=\"ftrl\")\n",
    "\n",
    "opt_ftrl = norm_model.fit(X_train_scaled, y_train, \n",
    "          validation_data=(X_test_scaled, y_test),\n",
    "          workers=-1, \n",
    "          epochs=10, \n",
    "          batch_size=32, \n",
    "          verbose=1)"
   ]
  },
  {
   "cell_type": "markdown",
   "metadata": {},
   "source": [
    "#### Visualize Results"
   ]
  },
  {
   "cell_type": "code",
   "execution_count": 72,
   "metadata": {},
   "outputs": [
    {
     "data": {
      "text/html": [
       "<div>\n",
       "<style scoped>\n",
       "    .dataframe tbody tr th:only-of-type {\n",
       "        vertical-align: middle;\n",
       "    }\n",
       "\n",
       "    .dataframe tbody tr th {\n",
       "        vertical-align: top;\n",
       "    }\n",
       "\n",
       "    .dataframe thead th {\n",
       "        text-align: right;\n",
       "    }\n",
       "</style>\n",
       "<table border=\"1\" class=\"dataframe\">\n",
       "  <thead>\n",
       "    <tr style=\"text-align: right;\">\n",
       "      <th></th>\n",
       "      <th>loss</th>\n",
       "      <th>accuracy</th>\n",
       "      <th>val_loss</th>\n",
       "      <th>val_accuracy</th>\n",
       "      <th>epoch</th>\n",
       "      <th>Optimizer</th>\n",
       "    </tr>\n",
       "  </thead>\n",
       "  <tbody>\n",
       "    <tr>\n",
       "      <th>0</th>\n",
       "      <td>0.782813</td>\n",
       "      <td>0.766267</td>\n",
       "      <td>0.616759</td>\n",
       "      <td>0.82152</td>\n",
       "      <td>0</td>\n",
       "      <td>Adam</td>\n",
       "    </tr>\n",
       "    <tr>\n",
       "      <th>1</th>\n",
       "      <td>0.556672</td>\n",
       "      <td>0.834480</td>\n",
       "      <td>0.516680</td>\n",
       "      <td>0.84724</td>\n",
       "      <td>1</td>\n",
       "      <td>Adam</td>\n",
       "    </tr>\n",
       "    <tr>\n",
       "      <th>2</th>\n",
       "      <td>0.467429</td>\n",
       "      <td>0.861120</td>\n",
       "      <td>0.473592</td>\n",
       "      <td>0.85980</td>\n",
       "      <td>2</td>\n",
       "      <td>Adam</td>\n",
       "    </tr>\n",
       "    <tr>\n",
       "      <th>3</th>\n",
       "      <td>0.410850</td>\n",
       "      <td>0.878600</td>\n",
       "      <td>0.445693</td>\n",
       "      <td>0.86848</td>\n",
       "      <td>3</td>\n",
       "      <td>Adam</td>\n",
       "    </tr>\n",
       "    <tr>\n",
       "      <th>4</th>\n",
       "      <td>0.370672</td>\n",
       "      <td>0.890707</td>\n",
       "      <td>0.440040</td>\n",
       "      <td>0.86916</td>\n",
       "      <td>4</td>\n",
       "      <td>Adam</td>\n",
       "    </tr>\n",
       "  </tbody>\n",
       "</table>\n",
       "</div>"
      ],
      "text/plain": [
       "       loss  accuracy  val_loss  val_accuracy  epoch Optimizer\n",
       "0  0.782813  0.766267  0.616759       0.82152      0      Adam\n",
       "1  0.556672  0.834480  0.516680       0.84724      1      Adam\n",
       "2  0.467429  0.861120  0.473592       0.85980      2      Adam\n",
       "3  0.410850  0.878600  0.445693       0.86848      3      Adam\n",
       "4  0.370672  0.890707  0.440040       0.86916      4      Adam"
      ]
     },
     "execution_count": 72,
     "metadata": {},
     "output_type": "execute_result"
    }
   ],
   "source": [
    "optimizers = []\n",
    "\n",
    "for exp, result in zip([opt_adam, opt_sgb, opt_rmsprop, opt_nadam, opt_ftrl], [\"Adam\", \"SGD\", \"RMSprop\", \"Nadam\", \"Ftrl\"]):\n",
    "\n",
    "    df = pd.DataFrame.from_dict(exp.history)\n",
    "    df['epoch'] = df.index.values\n",
    "    df['Optimizer'] = result\n",
    "\n",
    "    optimizers.append(df)\n",
    "\n",
    "df = pd.concat(optimizers)\n",
    "df['Optimizer'] = df['Optimizer'].astype('str')\n",
    "df.head()"
   ]
  },
  {
   "cell_type": "code",
   "execution_count": 64,
   "metadata": {},
   "outputs": [
    {
     "data": {
      "image/png": "[encoded data removed]",
      "text/plain": [
       "<Figure size 1080x360 with 1 Axes>"
      ]
     },
     "metadata": {
      "needs_background": "light"
     },
     "output_type": "display_data"
    }
   ],
   "source": [
    "plt.figure(figsize=(15, 5))\n",
    "sns.lineplot(x='epoch', y='val_accuracy', hue='Optimizer', data=df)\n",
    "plt.xlabel('Epoch')\n",
    "plt.ylabel('Validation Accuracy');"
   ]
  },
  {
   "cell_type": "code",
   "execution_count": 65,
   "metadata": {},
   "outputs": [
    {
     "data": {
      "image/png": "[encoded data removed]",
      "text/plain": [
       "<Figure size 1080x360 with 1 Axes>"
      ]
     },
     "metadata": {
      "needs_background": "light"
     },
     "output_type": "display_data"
    }
   ],
   "source": [
    "plt.figure(figsize=(15, 5))\n",
    "sns.lineplot(x='epoch', y='val_loss', hue='Optimizer', data=df)\n",
    "plt.xlabel('Epoch')\n",
    "plt.ylabel('Validation Loss');"
   ]
  },
  {
   "cell_type": "code",
   "execution_count": 66,
   "metadata": {},
   "outputs": [
    {
     "data": {
      "text/plain": [
       "0.41897571086883545"
      ]
     },
     "execution_count": 66,
     "metadata": {},
     "output_type": "execute_result"
    }
   ],
   "source": [
    "df['val_loss'].min()"
   ]
  },
  {
   "cell_type": "code",
   "execution_count": 67,
   "metadata": {},
   "outputs": [
    {
     "data": {
      "text/plain": [
       "0.8812400102615356"
      ]
     },
     "execution_count": 67,
     "metadata": {},
     "output_type": "execute_result"
    }
   ],
   "source": [
    "df['val_accuracy'].max()"
   ]
  },
  {
   "cell_type": "markdown",
   "metadata": {},
   "source": [
    "The best model is the one using Nadam as its optimizer. This model has the highest validation accuracy, and lowest validation loss. Both of the values are pretty constant after the second epoch.\n",
    "\n",
    "This model performs better overall than the model from yesterday's assignment.\n",
    "\n",
    "This model's validation loss is 0.001 higher than the validation loss for the model with the 0.001 learning rate. However, the accuracy for the best optimizer model is higher by 0.01."
   ]
  },
  {
   "cell_type": "markdown",
   "metadata": {
    "colab_type": "text",
    "id": "FwlRJSfBlCvy"
   },
   "source": [
    "------\n",
    "\n",
    "## Stretch Goals: \n",
    "\n",
    "- On the learning rate experiments, implement [EarlyStopping](https://keras.io/api/callbacks/early_stopping/)\n",
    "- Review the math of Gradient Descent. "
   ]
  }
 ],
 "metadata": {
  "colab": {
   "collapsed_sections": [],
   "name": "LS_DS_432_Train_Assignment.ipynb",
   "provenance": []
  },
  "kernelspec": {
   "display_name": "unit4sprint2",
   "language": "python",
   "name": "unit4sprint2"
  },
  "language_info": {
   "codemirror_mode": {
    "name": "ipython",
    "version": 3
   },
   "file_extension": ".py",
   "mimetype": "text/x-python",
   "name": "python",
   "nbconvert_exporter": "python",
   "pygments_lexer": "ipython3",
   "version": "3.8.6"
  },
  "nteract": {
   "version": "0.22.4"
  }
 },
 "nbformat": 4,
 "nbformat_minor": 4
}
